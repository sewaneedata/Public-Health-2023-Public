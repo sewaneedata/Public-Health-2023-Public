{
 "cells": [
  {
   "cell_type": "markdown",
   "id": "c27d23c3",
   "metadata": {},
   "source": [
    "# Partners for Healing Referrals"
   ]
  },
  {
   "cell_type": "code",
   "execution_count": null,
   "id": "0d3ae74b",
   "metadata": {},
   "outputs": [],
   "source": [
    "import pandas as pd\n",
    "import numpy as np\n",
    "import matplotlib.pyplot as plt\n",
    "import plotly.express as px\n",
    "import plotly.graph_objs as go\n",
    "from plotly.offline import init_notebook_mode, iplot\n",
    "\n",
    "init_notebook_mode(connected=True)"
   ]
  },
  {
   "cell_type": "markdown",
   "id": "53ce161a",
   "metadata": {},
   "source": [
    "## Importing and Cleaning Dataframe"
   ]
  },
  {
   "cell_type": "code",
   "execution_count": null,
   "id": "0a4ad3c7",
   "metadata": {},
   "outputs": [],
   "source": [
    "#importing the dataframe\n",
    "re = pd.read_csv('referrals.csv')\n",
    "\n",
    "#renaming the columns\n",
    "re.rename(columns = re.loc[0], inplace=True)\n",
    "re.drop(0, axis = 0, inplace=True)\n",
    "\n",
    "# function that returns the year from a date format of 'mm/dd/year'\n",
    "def dayToYear(day):\n",
    "    return day.split('/')[-1]\n",
    "\n",
    "# creating the new column\n",
    "re['enc year'] = [dayToYear(day) for day in re['order chartdate']]\n",
    "\n",
    "re['enc year']=re['enc year'].astype(int)"
   ]
  },
  {
   "cell_type": "code",
   "execution_count": null,
   "id": "be4a6a42",
   "metadata": {},
   "outputs": [],
   "source": [
    "re = re.drop(['patientdob','order name (single)','order desc'], axis=1)"
   ]
  },
  {
   "cell_type": "code",
   "execution_count": null,
   "id": "2c3ddca3",
   "metadata": {},
   "outputs": [],
   "source": [
    "re.to_csv('Referral_Data.csv')"
   ]
  },
  {
   "cell_type": "code",
   "execution_count": null,
   "id": "a5743017",
   "metadata": {},
   "outputs": [],
   "source": []
  }
 ],
 "metadata": {
  "kernelspec": {
   "display_name": "Python 3 (ipykernel)",
   "language": "python",
   "name": "python3"
  },
  "language_info": {
   "codemirror_mode": {
    "name": "ipython",
    "version": 3
   },
   "file_extension": ".py",
   "mimetype": "text/x-python",
   "name": "python",
   "nbconvert_exporter": "python",
   "pygments_lexer": "ipython3",
   "version": "3.9.13"
  }
 },
 "nbformat": 4,
 "nbformat_minor": 5
}
