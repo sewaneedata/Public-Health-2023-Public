{
 "cells": [
  {
   "cell_type": "markdown",
   "id": "c61ee9cb",
   "metadata": {},
   "source": [
    "# Hear About Partners for Healing"
   ]
  },
  {
   "cell_type": "code",
   "execution_count": null,
   "id": "9b769204",
   "metadata": {},
   "outputs": [],
   "source": [
    "import pandas as pd\n",
    "import numpy as np\n",
    "import matplotlib.pyplot as plt\n",
    "import plotly.express as px\n",
    "import plotly.graph_objs as go\n",
    "from plotly.offline import init_notebook_mode, iplot\n",
    "\n",
    "init_notebook_mode(connected=True)"
   ]
  },
  {
   "cell_type": "markdown",
   "id": "7b4e846f",
   "metadata": {},
   "source": [
    "## Importing and Cleaning Dataframe"
   ]
  },
  {
   "cell_type": "code",
   "execution_count": null,
   "id": "7fb83433",
   "metadata": {},
   "outputs": [],
   "source": [
    "#import the csv\n",
    "ha = pd.read_csv('HearPfH.csv')"
   ]
  },
  {
   "cell_type": "code",
   "execution_count": null,
   "id": "02ed1cce",
   "metadata": {},
   "outputs": [],
   "source": [
    "#change the column names and drop a column\n",
    "ha.rename(columns = ha.loc[0], inplace=True)\n",
    "ha.drop(0, axis = 0, inplace=True)\n",
    "ha = ha.drop('patient name', axis=1)"
   ]
  },
  {
   "cell_type": "code",
   "execution_count": null,
   "id": "db4f4503",
   "metadata": {},
   "outputs": [],
   "source": [
    "#simplify the 'ref column' outputs\n",
    "ha['ref source'] = ha['ref source'].replace('Other : Cigna Connect INS', 'Other')\n",
    "ha['ref source'] = ha['ref source'].replace('Other : over 1 yr since last visit', 'Other')\n",
    "ha['ref source'] = ha['ref source'].replace('Referral from Social Service Agency', 'Social Service Agency')\n",
    "ha['ref source'] = ha['ref source'].replace('Referral from Other Clinic/Physician', 'Other Clinic/Physician')\n",
    "ha['ref source'] = ha['ref source'].replace('Referral from Hospital/ER', 'Hospital/ER')\n",
    "ha['ref source'] = ha['ref source'].replace('Other : over 1 yr since last visit', 'Other')"
   ]
  },
  {
   "cell_type": "code",
   "execution_count": null,
   "id": "d5ca5627",
   "metadata": {},
   "outputs": [],
   "source": [
    "ha.to_csv('FinalHearAbout.csv')"
   ]
  }
 ],
 "metadata": {
  "kernelspec": {
   "display_name": "Python 3 (ipykernel)",
   "language": "python",
   "name": "python3"
  },
  "language_info": {
   "codemirror_mode": {
    "name": "ipython",
    "version": 3
   },
   "file_extension": ".py",
   "mimetype": "text/x-python",
   "name": "python",
   "nbconvert_exporter": "python",
   "pygments_lexer": "ipython3",
   "version": "3.9.13"
  }
 },
 "nbformat": 4,
 "nbformat_minor": 5
}
