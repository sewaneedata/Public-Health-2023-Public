{
 "cells": [
  {
   "cell_type": "code",
   "execution_count": null,
   "id": "2ca4dcd4",
   "metadata": {},
   "outputs": [],
   "source": [
    "import pandas as pd\n",
    "import pandas as pd\n",
    "import numpy as np\n",
    "import matplotlib.pyplot as plt\n",
    "import plotly.express as px\n",
    "import plotly.graph_objs as go\n",
    "from plotly.offline import init_notebook_mode, iplot\n",
    "\n",
    "init_notebook_mode(connected=True)  \n"
   ]
  },
  {
   "cell_type": "markdown",
   "id": "5f8b5cfa",
   "metadata": {},
   "source": [
    "# Import Original Census CSV Files"
   ]
  },
  {
   "cell_type": "code",
   "execution_count": null,
   "id": "d4cd9325",
   "metadata": {},
   "outputs": [],
   "source": [
    "s2012 = pd.read_csv('02_ACSST5Y2012.S2701.csv')\n",
    "s2013 = pd.read_csv('02_ACSST5Y2013.S2701.csv')\n",
    "s2014 = pd.read_csv('02_ACSST5Y2014.S2701.csv')\n",
    "s2015 = pd.read_csv('02_ACSST5Y2015.S2701.csv')\n",
    "s2016 = pd.read_csv('02_ACSST5Y2016.S2701.csv')\n",
    "s2017 = pd.read_csv('02_ACSST5Y2017.S2701.csv')\n",
    "s2018 = pd.read_csv('02_ACSST5Y2018.S2701.csv')\n",
    "s2019 = pd.read_csv('02_ACSST5Y2019.S2701.csv')\n",
    "s2020 = pd.read_csv('02_ACSST5Y2020.S2701.csv')\n",
    "s2021 = pd.read_csv('02_ACSST5Y2021.S2701.csv')"
   ]
  },
  {
   "cell_type": "code",
   "execution_count": null,
   "id": "c61c60a8",
   "metadata": {},
   "outputs": [],
   "source": [
    "us2012 = pd.read_csv('03_ACSST5Y2012.S2701.csv')\n",
    "us2013 = pd.read_csv('03_ACSST5Y2013.S2701.csv')\n",
    "us2014 = pd.read_csv('03_ACSST5Y2014.S2701.csv')\n",
    "us2015 = pd.read_csv('03_ACSST5Y2015.S2701.csv')\n",
    "us2016 = pd.read_csv('03_ACSST5Y2016.S2701.csv')\n",
    "us2017 = pd.read_csv('03_ACSST5Y2017.S2701.csv')\n",
    "us2018 = pd.read_csv('03_ACSST5Y2018.S2701.csv')\n",
    "us2019 = pd.read_csv('03_ACSST5Y2019.S2701.csv')\n",
    "us2020 = pd.read_csv('03_ACSST5Y2020.S2701.csv')\n",
    "us2021 = pd.read_csv('03_ACSST5Y2021.S2701.csv')"
   ]
  },
  {
   "cell_type": "markdown",
   "id": "22c7f164",
   "metadata": {},
   "source": [
    "# Create and Clean the Census Dataframes"
   ]
  },
  {
   "cell_type": "code",
   "execution_count": null,
   "id": "1d216c26",
   "metadata": {},
   "outputs": [],
   "source": [
    "# create a list of tn census df and list of years\n",
    "tn_dataframes = [s2012, s2013, s2014, s2015, s2016, s2017, s2018, s2019, s2020, s2021]\n",
    "tn_years = []\n",
    "for i in range(2012, 2022):\n",
    "    tn_years.append(i)\n",
    "\n",
    "# create a list of us census df and list of years    \n",
    "us_dataframes = [us2012, us2013, us2014, us2015, us2016, us2017, us2018, us2019, us2020, us2021]\n",
    "us_years = []\n",
    "for i in range(2012, 2022):\n",
    "    us_years.append(i)\n",
    "\n",
    "#rename the columns of the df\n",
    "def rename_columns_smaller(df, year):\n",
    "    if df.shape[1]==4:\n",
    "        df.columns=['del', 'population', 'uninsured', 'percent_uninsured']\n",
    "    else:\n",
    "        df.columns = ['del', 'population', 'insured', 'percent_insured', 'uninsured', 'percent_uninsured']\n",
    "        df = df.drop(['insured','percent_insured'], axis=1)\n",
    "    df = df.head(1)\n",
    "    df = df.drop('del', axis=1)\n",
    "    df['year'] = year  # Add year column\n",
    "    return df\n",
    "\n",
    "#modify the tn df\n",
    "tn_modified_dataframes = []\n",
    "for i, df in enumerate(tn_dataframes):\n",
    "    tn_modified_df = rename_columns_smaller(df, tn_years[i])\n",
    "    tn_modified_dataframes.append(tn_modified_df)\n",
    "\n",
    "\n",
    "#modify the us df\n",
    "us_modified_dataframes = []\n",
    "for i, df in enumerate(us_dataframes):\n",
    "    us_modified_df = rename_columns_smaller(df, us_years[i])\n",
    "    us_modified_dataframes.append(us_modified_df)\n",
    "\n",
    "# concat the list of tn df\n",
    "tn_df = pd.concat(tn_modified_dataframes, ignore_index=True)\n",
    "\n",
    "# concat the list of us df\n",
    "us_df = pd.concat(us_modified_dataframes, ignore_index=True)\n",
    "\n",
    "# cleaning the data type for df\n",
    "def type_cleaning(df):\n",
    "    #Making 'percent uninsured' column float types\n",
    "    df['percent_uninsured'] = df['percent_uninsured'].str.replace('%', '')\n",
    "    df['percent_uninsured'] = df['percent_uninsured'].astype(float) \n",
    "\n",
    "    df['percent_uninsured'] = pd.to_numeric(df['percent_uninsured'], errors='coerce')\n",
    "\n",
    "# using the cleaning func\n",
    "type_cleaning(tn_df)\n",
    "\n",
    "#using the cleaning func\n",
    "type_cleaning(us_df)\n",
    "\n",
    "# correct percetnage values\n",
    "def subtract_from_100(value):\n",
    "    if value > 50:\n",
    "        return 100 - value\n",
    "    else:\n",
    "        return value\n",
    "\n",
    "# correct the values\n",
    "def correct_percent(df):\n",
    "    df['percent_uninsured'] = df['percent_uninsured'].apply(subtract_from_100)\n",
    "\n",
    "# final df\n",
    "correct_percent(tn_df)\n",
    "correct_percent(us_df)"
   ]
  },
  {
   "cell_type": "code",
   "execution_count": null,
   "id": "474ab7b6",
   "metadata": {},
   "outputs": [],
   "source": [
    "# Download the final csv files\n",
    "tn_df.to_csv('tn_trends.csv')\n",
    "us_df.to_csv('us_trends.csv')"
   ]
  },
  {
   "cell_type": "code",
   "execution_count": null,
   "id": "f623df41",
   "metadata": {},
   "outputs": [],
   "source": []
  },
  {
   "cell_type": "code",
   "execution_count": null,
   "id": "c9232264",
   "metadata": {},
   "outputs": [],
   "source": []
  }
 ],
 "metadata": {
  "kernelspec": {
   "display_name": "Python 3 (ipykernel)",
   "language": "python",
   "name": "python3"
  },
  "language_info": {
   "codemirror_mode": {
    "name": "ipython",
    "version": 3
   },
   "file_extension": ".py",
   "mimetype": "text/x-python",
   "name": "python",
   "nbconvert_exporter": "python",
   "pygments_lexer": "ipython3",
   "version": "3.9.13"
  }
 },
 "nbformat": 4,
 "nbformat_minor": 5
}
