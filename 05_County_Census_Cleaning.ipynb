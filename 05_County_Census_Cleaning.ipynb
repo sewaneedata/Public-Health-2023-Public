{
 "cells": [
  {
   "cell_type": "code",
   "execution_count": null,
   "id": "d995548a",
   "metadata": {},
   "outputs": [],
   "source": [
    "import pandas as pd"
   ]
  },
  {
   "cell_type": "markdown",
   "id": "f86c3c34",
   "metadata": {},
   "source": [
    "## Importing Census Data Sets"
   ]
  },
  {
   "cell_type": "code",
   "execution_count": null,
   "id": "2aba4437",
   "metadata": {},
   "outputs": [],
   "source": [
    "#Importing the raw census csv files for county data\n",
    "c2018 = pd.read_csv('CountyCensus2018.csv')\n",
    "c2019 = pd.read_csv('CountyCensus2019.csv')\n",
    "c2020 = pd.read_csv('CountyCensus2020.csv')\n",
    "c2021 = pd.read_csv('CountyCensus2021.csv')"
   ]
  },
  {
   "cell_type": "code",
   "execution_count": null,
   "id": "dfbc65b0",
   "metadata": {},
   "outputs": [],
   "source": [
    "#List of Tennessee Counties\n",
    "county = ['Anderson County', 'Bedford County', 'Benton County',\n",
    "          'Bledsoe County', 'Blount County', 'Bradley County',\n",
    "          'Campbell County', 'Cannon County', 'Carroll County',\n",
    "          'Carter County', 'Cheatham County', 'Chester County',\n",
    "          'Claiborne County', 'Clay County', 'Cocke County',\n",
    "          'Coffee County', 'Crockett County', 'Cumberland County',\n",
    "          'Davidson County', 'Decatur County', 'DeKalb County',\n",
    "          'Dickson County', 'Dyer County', 'Fayette County',\n",
    "          'Fentress County', 'Franklin County', 'Gibson County',\n",
    "          'Giles County', 'Grainger County', 'Greene County',\n",
    "          'Grundy County', 'Hamblen County', 'Hamilton County',\n",
    "          'Hancock County', 'Hardeman County', 'Hardin County',\n",
    "          'Hawkins County', 'Haywood County', 'Henderson County',\n",
    "          'Henry County', 'Hickman County', 'Houston County',\n",
    "          'Humphreys County', 'Jackson County', 'Jefferson County',\n",
    "          'Johnson County', 'Knox County', 'Lake County',\n",
    "          'Lauderdale County', 'Lawrence County', 'Lewis County',\n",
    "          'Lincoln County', 'Loudon County', 'Macon County',\n",
    "          'Madison County', 'Marion County', 'Marshall County',\n",
    "          'Maury County', 'McMinn County', 'McNairy County',\n",
    "          'Meigs County', 'Monroe County', 'Montgomery County',\n",
    "          'Moore County', 'Morgan County', 'Obion County',\n",
    "          'Overton County', 'Perry County', 'Pickett County',\n",
    "          'Polk County', 'Putnam County', 'Rhea County',\n",
    "          'Roane County', 'Robertson County', 'Rutherford County',\n",
    "          'Scott County', 'Sequatchie County', 'Sevier County',\n",
    "          'Shelby County', 'Smith County', 'Stewart County',\n",
    "          'Sullivan County', 'Sumner County', 'Tipton County',\n",
    "          'Trousdale County', 'Unicoi County', 'Union County',\n",
    "          'Van Buren County', 'Warren County', 'Washington County',\n",
    "          'Wayne County', 'Weakley County', 'White County',\n",
    "          'Williamson County', 'Wilson County']\n"
   ]
  },
  {
   "cell_type": "code",
   "execution_count": null,
   "id": "02bb1642",
   "metadata": {},
   "outputs": [],
   "source": [
    "#List of updated column names\n",
    "col = ['population',\n",
    "            'age', \n",
    "                    '<6', '6-18', '19-25', '26-34', '35-44', '45-54', '55-64', '65-74', '>75', '<19','19-64', '>65',\n",
    "            'sex',\n",
    "                    'male', 'female',\n",
    "            'race', \n",
    "                    'white','african american','american indian and alaska native','asian','native hawaiian and pacific islander','other', 'multiple','hispanic or latino','not hispanic or latino',\n",
    "            'living arrangements', \n",
    "                    'family housholds','married families','other families','male no spouse','female no spouse','non-family',\n",
    "            'citizenship status', \n",
    "                    'native','foreign', 'naturalized','not citizen',\n",
    "            'disability status',\n",
    "                    'disability', 'no disability',\n",
    "            'education level',\n",
    "                'population(26 over)',\n",
    "                    'less than high school',\n",
    "                    'high school',\n",
    "                    'some college',\n",
    "                    'bachelors degree or higher', \n",
    "            'employment status',\n",
    "                'population(19-64)',\n",
    "                    'in labor force', 'employed','unemployed', 'not in labor force',\n",
    "           'work experience',\n",
    "                'population(19-65)',\n",
    "                    'full time','not full time','no work',\n",
    "           'household income',\n",
    "                'total population', \n",
    "                    'Under 25000','25000-49999', '50000-74999','75000-99999', 'over 100000',\n",
    "           'income poverty ratio',\n",
    "                'total population poverty status',\n",
    "       '<138',\n",
    "       '138-399',\n",
    "       '>400',\n",
    "       '<100']"
   ]
  },
  {
   "cell_type": "code",
   "execution_count": null,
   "id": "12880a9b",
   "metadata": {},
   "outputs": [],
   "source": [
    "#List of filtered column names\n",
    "new_names = ['population','insured','percent_insured','uninsured','percent_uninsured']"
   ]
  },
  {
   "cell_type": "code",
   "execution_count": null,
   "id": "740f4fb2",
   "metadata": {},
   "outputs": [],
   "source": []
  },
  {
   "cell_type": "markdown",
   "id": "146773a1",
   "metadata": {},
   "source": [
    "## Cleaning Funtions"
   ]
  },
  {
   "cell_type": "code",
   "execution_count": null,
   "id": "f4fc87b0",
   "metadata": {},
   "outputs": [],
   "source": [
    "#Creates year column\n",
    "def add_year_column(df, year):\n",
    "    df['year'] = year\n",
    "    return df"
   ]
  },
  {
   "cell_type": "code",
   "execution_count": null,
   "id": "a2d79463",
   "metadata": {},
   "outputs": [],
   "source": [
    "#Cleaning the Columns\n",
    "def type_cleaning(df):\n",
    "    #Making 'population' column int\n",
    "    df['population'] = df['population'].str.replace(',', '')\n",
    "    df['population'] = pd.to_numeric(df['population'])\n",
    "    \n",
    "    #Making 'insured' column int\n",
    "    df['insured'] = df['insured'].str.replace(',', '')\n",
    "    df['insured'] = pd.to_numeric(df['insured'])\n",
    "    \n",
    "    #Making 'percent insured' column float types\n",
    "    df['percent_insured'] = df['percent_insured'].str.replace('%', '')\n",
    "    df['percent_insured'] = df['percent_insured'].astype(float)\n",
    "\n",
    "    #Making 'percent uninsured' column float types\n",
    "    df['percent_uninsured'] = df['percent_uninsured'].str.replace('%', '')\n",
    "    df['percent_uninsured'] = df['percent_uninsured'].astype(float) \n",
    "    \n",
    "    #Making 'uninsured' column int\n",
    "    df['uninsured'] = df['uninsured'].str.replace(',', '')\n",
    "    df['uninsured'] = pd.to_numeric(df['uninsured'])"
   ]
  },
  {
   "cell_type": "code",
   "execution_count": null,
   "id": "271d95f9",
   "metadata": {},
   "outputs": [],
   "source": [
    "#Slices the dataframes in groups of 5 by county\n",
    "def slice_dataframe(df):\n",
    "    num_columns = df.shape[1]\n",
    "    sliced_dfs = []\n",
    "    for start in range(0, num_columns, 5):\n",
    "        end = min(start + 5, num_columns)\n",
    "        sliced_df = df.iloc[:, start:end]\n",
    "        sliced_dfs.append(sliced_df)\n",
    "    return sliced_dfs"
   ]
  },
  {
   "cell_type": "code",
   "execution_count": null,
   "id": "e24edcd7",
   "metadata": {},
   "outputs": [],
   "source": [
    "#Fill nan values in uninsured column\n",
    "def fill_uninsured(df):\n",
    "    #Filling NaN values in the 'uninsured' column\n",
    "    nan = df[df.isna().any(axis=1)]\n",
    "    if not nan.empty:\n",
    "        df['uninsured'] = df['uninsured'].fillna((df['percent_uninsured'].astype(float) * df['population'].astype(float) / 100).round(decimals=0).astype(int))\n",
    "    \n",
    "    #Converting 'uninsured' column to int\n",
    "    df['uninsured'] = df['uninsured'].astype(int)"
   ]
  },
  {
   "cell_type": "code",
   "execution_count": null,
   "id": "1894ffe2",
   "metadata": {},
   "outputs": [],
   "source": [
    "#rename columns\n",
    "def rename_columns(dataframes, new_column_names):\n",
    "    renamed_dataframes = []\n",
    "    for df in dataframes:\n",
    "        df.columns=new_column_names\n",
    "\n",
    "    return dataframes"
   ]
  },
  {
   "cell_type": "code",
   "execution_count": null,
   "id": "0c355208",
   "metadata": {},
   "outputs": [],
   "source": [
    "#merge dataframes\n",
    "def merge_dataframes(dataframes):\n",
    "    merged_df = pd.concat(dataframes, axis=1)\n",
    "    return merged_df"
   ]
  },
  {
   "cell_type": "markdown",
   "id": "9c08d9ed",
   "metadata": {},
   "source": [
    "## Total Census Dataframe"
   ]
  },
  {
   "cell_type": "code",
   "execution_count": null,
   "id": "bfc4b7c0",
   "metadata": {},
   "outputs": [],
   "source": [
    "def general_census(df, year):\n",
    "    #Change the labels\n",
    "    df['Label (Grouping)']=col\n",
    "    #Transpose the dataframe\n",
    "    df = df.transpose()\n",
    "    #Select the specific label grouping\n",
    "    df = df.loc[:, 0:1]\n",
    "    #Transpose the dataframe\n",
    "    df = df.transpose()\n",
    "    #Set the labels to the index\n",
    "    df.set_index(df.columns[0], inplace=True)\n",
    "    #Slice the data frame between counties\n",
    "    new = slice_dataframe(df)\n",
    "    #Rename each individual dataframe's columns\n",
    "    new = rename_columns(new, new_names)\n",
    "    #Create county column\n",
    "    for i, df in enumerate(new):  \n",
    "        df['county'] = county[i]\n",
    "    #Reset index\n",
    "    for i, df in enumerate(new):\n",
    "        df.reset_index(drop=True,inplace=True)\n",
    "    #Drop the NaN value row\n",
    "    for df in new:\n",
    "        df.drop(1, inplace=True)\n",
    "        df.reset_index(drop=True, inplace=True)\n",
    "    #Combine all of the individual dataframes\n",
    "    census_age = pd.concat(new)\n",
    "    #Add a year column to the final dataframe\n",
    "    add_year_column(census_age, year)\n",
    "    #Cleaning the perentage columns and column data types\n",
    "    type_cleaning(census_age)\n",
    "    #Fill in the null values in the uninsured column\n",
    "    fill_uninsured(census_age)\n",
    "    #Return the final dataframe\n",
    "    return census_age"
   ]
  },
  {
   "cell_type": "markdown",
   "id": "35fefa08",
   "metadata": {},
   "source": [
    "## Age Census Dataframe"
   ]
  },
  {
   "cell_type": "code",
   "execution_count": null,
   "id": "faaa8673",
   "metadata": {},
   "outputs": [],
   "source": [
    "def age_census(df, year):\n",
    "    #Change the labels\n",
    "    df['Label (Grouping)']=col\n",
    "    #Transpose the dataframe\n",
    "    df = df.transpose()\n",
    "    #Select the specific label grouping\n",
    "    df = df.loc[:, 0:13]\n",
    "    #Transpose the dataframe\n",
    "    df = df.transpose()\n",
    "    #Set the labels to the index\n",
    "    df.set_index(df.columns[0], inplace=True)\n",
    "    #Slice the data frame between counties\n",
    "    new = slice_dataframe(df)\n",
    "    #Rename each individual dataframe's columns\n",
    "    new = rename_columns(new, new_names)\n",
    "    #Create an age column using the index\n",
    "    for i, df in enumerate(new):\n",
    "        df['county'] = county[i]\n",
    "        df.reset_index(inplace=True)\n",
    "        df.rename(columns={'Label (Grouping)': 'age'}, inplace=True)\n",
    "    #Drop the NaN value row\n",
    "    for df in new:\n",
    "        df.drop(1, inplace=True)\n",
    "        df.reset_index(drop=True, inplace=True)\n",
    "    #Change the population label\n",
    "    for df in new:\n",
    "        df.at[0, 'age'] = 'all'\n",
    "    #Combine all of the individual dataframes\n",
    "    census_age = pd.concat(new)\n",
    "    #Add a year column to the final dataframe\n",
    "    add_year_column(census_age, year)\n",
    "    #Cleaning the perentage columns and column data types\n",
    "    type_cleaning(census_age)\n",
    "    #Fill in the null values in the uninsured column\n",
    "    fill_uninsured(census_age)\n",
    "    #Return the final dataframe\n",
    "    return census_age"
   ]
  },
  {
   "cell_type": "markdown",
   "id": "b53d7a06",
   "metadata": {},
   "source": [
    "## Employment Census Dataframe"
   ]
  },
  {
   "cell_type": "code",
   "execution_count": null,
   "id": "82bfeca0",
   "metadata": {},
   "outputs": [],
   "source": [
    "def employment_census(df, year):    \n",
    "    #Change the labels\n",
    "    df['Label (Grouping)']=col\n",
    "    #Transpose the dataframe\n",
    "    df = df.transpose()\n",
    "    #Select the specific label grouping\n",
    "    df = df.loc[:, 49:53]\n",
    "    #Transpose the dataframe\n",
    "    df = df.transpose()\n",
    "    #Set the labels to the index\n",
    "    df.set_index(df.columns[0], inplace=True)\n",
    "    #Slice the data frame between counties\n",
    "    new = slice_dataframe(df)\n",
    "    #Rename each individual dataframe's columns\n",
    "    new = rename_columns(new, new_names)\n",
    "    #Create an category column using the index\n",
    "    for i, df in enumerate(new):\n",
    "        df['county'] = county[i]\n",
    "        df.reset_index(inplace=True)\n",
    "        df.rename(columns={'Label (Grouping)': 'employment_status (19-64)'}, inplace=True)\n",
    "    #Change the population label\n",
    "    for df in new:\n",
    "        df.at[0, 'employment_status (19-64)'] = 'all'\n",
    "    #Combine all of the individual dataframes\n",
    "    census_employment = pd.concat(new)\n",
    "    #Add a year column to the final dataframe\n",
    "    add_year_column(census_employment, year)\n",
    "    #Cleaning the perentage columns and column data types\n",
    "    type_cleaning(census_employment)\n",
    "    #Fill in the null values in the uninsured column\n",
    "    fill_uninsured(census_employment)\n",
    "    #Return the final dataframe\n",
    "    return census_employment"
   ]
  },
  {
   "cell_type": "markdown",
   "id": "9c419969",
   "metadata": {},
   "source": [
    "## Disability Census Dataframe"
   ]
  },
  {
   "cell_type": "code",
   "execution_count": null,
   "id": "65f140f7",
   "metadata": {},
   "outputs": [],
   "source": [
    "def disability_census(df, year):\n",
    "    #Change the labels\n",
    "    df['Label (Grouping)']=col\n",
    "    #Transpose the dataframe\n",
    "    df = df.transpose()\n",
    "    #Select the specific label grouping\n",
    "    df = df.loc[:, 39:41]\n",
    "    #Transpose the dataframe\n",
    "    df = df.transpose()\n",
    "    #Set the labels to index\n",
    "    df.set_index(df.columns[0], inplace=True)\n",
    "    #Slice the dataframe between counties\n",
    "    new = slice_dataframe(df)\n",
    "    #Rename each individual dataframes's columns\n",
    "    new = rename_columns(new, new_names)\n",
    "    #Create a category column using the index\n",
    "    for i, df in enumerate(new):\n",
    "        df['county'] = county[i]\n",
    "        df.reset_index(inplace=True)\n",
    "        df.rename(columns={'Label (Grouping)': 'disability_status'}, inplace=True)\n",
    "    #Drop the NaN value row\n",
    "    for df in new:\n",
    "        df.drop(0, inplace=True)\n",
    "        df.reset_index(drop=True, inplace=True)\n",
    "    #Combine all individual dataframes\n",
    "    census_disability = pd.concat(new)\n",
    "    #Add a year column to the final dataframe\n",
    "    census_disability = add_year_column(census_disability, year)\n",
    "    #Cleaning the percentage columns and column data types\n",
    "    type_cleaning(census_disability)\n",
    "    #Fill uninsured null values\n",
    "    fill_uninsured(census_disability)\n",
    "    #Return the final dataframe\n",
    "    return census_disability"
   ]
  },
  {
   "cell_type": "markdown",
   "id": "10976368",
   "metadata": {},
   "source": [
    "## Poverty Level Census Dataframe"
   ]
  },
  {
   "cell_type": "code",
   "execution_count": null,
   "id": "e6424931",
   "metadata": {},
   "outputs": [],
   "source": [
    "def poverty_census(df, year):\n",
    "    #Change the labels\n",
    "    df['Label (Grouping)']=col\n",
    "    #Transpose the dataframe\n",
    "    df = df.transpose()\n",
    "    #Select specific label grouping\n",
    "    df = df.loc[:, 66:]\n",
    "    #Transpose the dataframe\n",
    "    df = df.transpose()\n",
    "    #Set the labels to index\n",
    "    df.set_index(df.columns[0], inplace=True)\n",
    "    #Slice the dataframe between counties\n",
    "    new = slice_dataframe(df)\n",
    "    #Rename each individual dataframes's columns\n",
    "    new = rename_columns(new, new_names)\n",
    "    #Create a category column using the index\n",
    "    for i, df in enumerate(new):\n",
    "        df['county'] = county[i]\n",
    "        df.reset_index(inplace=True)\n",
    "        df.rename(columns={'Label (Grouping)': 'poverty_level (%)'}, inplace=True)\n",
    "    #Drop the NaN value row\n",
    "    for df in new:\n",
    "        df.drop(0, inplace=True)\n",
    "        df.reset_index(drop=True, inplace=True)\n",
    "    #Change the population label\n",
    "    for df in new:\n",
    "        df.at[0, 'poverty_level (%)'] = 'all'\n",
    "    #Combine all individual dataframes\n",
    "    census_poverty = pd.concat(new)\n",
    "    #Add a year column to the final dataframe\n",
    "    census_poverty = add_year_column(census_poverty, year)\n",
    "    #Cleaning the percentage columns and column data types\n",
    "    type_cleaning(census_poverty)\n",
    "    #Fill uninsured null values\n",
    "    fill_uninsured(census_poverty)\n",
    "    #Return the final dataframe\n",
    "    return census_poverty\n",
    "    "
   ]
  },
  {
   "cell_type": "markdown",
   "id": "90593b88",
   "metadata": {},
   "source": [
    "## Combine Cleaned Dataframes"
   ]
  },
  {
   "cell_type": "code",
   "execution_count": null,
   "id": "f6e4e725",
   "metadata": {},
   "outputs": [],
   "source": [
    "#Use each function to create the new coresponding dataframes\n",
    "g2018 = general_census(c2018,2018)\n",
    "g2019 = general_census(c2019, 2019)\n",
    "g2020 = general_census(c2020,2020)\n",
    "g2021 = general_census(c2021, 2021)\n",
    "\n",
    "a2018 = age_census(c2018,2018)\n",
    "a2019 = age_census(c2019, 2019)\n",
    "a2020 = age_census(c2020,2020)\n",
    "a2021 = age_census(c2021, 2021)\n",
    "\n",
    "e2018 = employment_census(c2018,2018)\n",
    "e2019 = employment_census(c2019, 2019)\n",
    "e2020 = employment_census(c2020,2020)\n",
    "e2021 = employment_census(c2021, 2021)\n",
    "\n",
    "d2018 = disability_census(c2018,2018)\n",
    "d2019 = disability_census(c2019, 2019)\n",
    "d2020 = disability_census(c2020,2020)\n",
    "d2021 = disability_census(c2021, 2021)\n",
    "\n",
    "p2018 = poverty_census(c2018,2018)\n",
    "p2019 = poverty_census(c2019, 2019)\n",
    "p2020 = poverty_census(c2020,2020)\n",
    "p2021 = poverty_census(c2021, 2021)"
   ]
  },
  {
   "cell_type": "code",
   "execution_count": null,
   "id": "b9620479",
   "metadata": {},
   "outputs": [],
   "source": [
    "#Function to create list of dataframes\n",
    "def create_dataframe_list(*dataframes):\n",
    "    dataframe_list = list(dataframes)\n",
    "    return dataframe_list"
   ]
  },
  {
   "cell_type": "code",
   "execution_count": null,
   "id": "b1d1ce29",
   "metadata": {},
   "outputs": [],
   "source": [
    "#Function to concat list of dataframes\n",
    "def df_combine(dataframes):\n",
    "    concatenated_df = pd.concat(dataframes, ignore_index=True)\n",
    "    return concatenated_df"
   ]
  },
  {
   "cell_type": "code",
   "execution_count": null,
   "id": "a08243fb",
   "metadata": {},
   "outputs": [],
   "source": [
    "#Creates a list of the dataframes\n",
    "gen_lst = create_dataframe_list(g2018,g2019,g2020,g2021)\n",
    "age_lst = create_dataframe_list(a2018,a2019,a2020,a2021)\n",
    "emp_lst = create_dataframe_list(e2018,e2019,e2020,e2021)\n",
    "dis_lst = create_dataframe_list(d2018,d2019,d2020,d2021)\n",
    "pov_lst = create_dataframe_list(p2018,p2019,p2020,p2021)"
   ]
  },
  {
   "cell_type": "code",
   "execution_count": null,
   "id": "9bf72c9c",
   "metadata": {},
   "outputs": [],
   "source": [
    "#Concats the list of dataframes\n",
    "gen_census = df_combine(gen_lst)\n",
    "age_census = df_combine(age_lst)\n",
    "emp_census = df_combine(emp_lst)\n",
    "dis_census = df_combine(dis_lst)\n",
    "pov_census = df_combine(pov_lst)"
   ]
  },
  {
   "cell_type": "code",
   "execution_count": null,
   "id": "7f240401",
   "metadata": {},
   "outputs": [],
   "source": [
    "#Saves the individual dataframes to new csv files\n",
    "gen_census.to_csv('01general_census.csv')\n",
    "age_census.to_csv('01age_census.csv')\n",
    "emp_census.to_csv('01employment_census.csv')\n",
    "dis_census.to_csv('01disability_census.csv')\n",
    "pov_census.to_csv('01poverty_census.csv')"
   ]
  },
  {
   "cell_type": "code",
   "execution_count": null,
   "id": "4ebeef67",
   "metadata": {},
   "outputs": [],
   "source": []
  },
  {
   "cell_type": "code",
   "execution_count": null,
   "id": "dbc0928a",
   "metadata": {},
   "outputs": [],
   "source": []
  }
 ],
 "metadata": {
  "kernelspec": {
   "display_name": "Python 3 (ipykernel)",
   "language": "python",
   "name": "python3"
  },
  "language_info": {
   "codemirror_mode": {
    "name": "ipython",
    "version": 3
   },
   "file_extension": ".py",
   "mimetype": "text/x-python",
   "name": "python",
   "nbconvert_exporter": "python",
   "pygments_lexer": "ipython3",
   "version": "3.9.13"
  }
 },
 "nbformat": 4,
 "nbformat_minor": 5
}
