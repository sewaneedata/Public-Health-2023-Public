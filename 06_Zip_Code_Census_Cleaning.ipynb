{
 "cells": [
  {
   "cell_type": "code",
   "execution_count": null,
   "id": "24b5e30a",
   "metadata": {},
   "outputs": [],
   "source": [
    "import pandas as pd"
   ]
  },
  {
   "cell_type": "code",
   "execution_count": null,
   "id": "03ea1f8a",
   "metadata": {},
   "outputs": [],
   "source": [
    "#import original census data by zip codes\n",
    "big = pd.read_csv('ACSST5Y2020.S2701-Data.csv')"
   ]
  },
  {
   "cell_type": "markdown",
   "id": "c4399667",
   "metadata": {},
   "source": [
    "# Clean the Census Dataframe"
   ]
  },
  {
   "cell_type": "code",
   "execution_count": null,
   "id": "1d830871",
   "metadata": {},
   "outputs": [],
   "source": [
    "#Change the column names to the first row of data\n",
    "big.rename(columns = big.loc[0], inplace=True)\n",
    "big.drop(0, axis = 0, inplace=True)"
   ]
  },
  {
   "cell_type": "code",
   "execution_count": null,
   "id": "11eb3683",
   "metadata": {},
   "outputs": [],
   "source": [
    "#Changing the zip code values to only include the zip code and not 'ZCTA5'\n",
    "big['Geographic Area Name'] = big['Geographic Area Name'].str.replace('ZCTA5 ', '')"
   ]
  },
  {
   "cell_type": "code",
   "execution_count": null,
   "id": "505a881f",
   "metadata": {},
   "outputs": [],
   "source": [
    "#Creating a smaller dataframe that only includes total population, insured population, and uninsured population\n",
    "small = big[['Geographic Area Name','Estimate!!Total!!Civilian noninstitutionalized population','Estimate!!Insured!!Civilian noninstitutionalized population','Estimate!!Uninsured!!Civilian noninstitutionalized population']]"
   ]
  },
  {
   "cell_type": "code",
   "execution_count": null,
   "id": "2683d5be",
   "metadata": {},
   "outputs": [],
   "source": [
    "#Renaming the new dataframe's columns\n",
    "small.columns = ['zip code','population','insured','uninsured']"
   ]
  },
  {
   "cell_type": "code",
   "execution_count": null,
   "id": "5f87137b",
   "metadata": {},
   "outputs": [],
   "source": [
    "#Changing the columns to numeric types\n",
    "small['population'] = pd.to_numeric(small['population'])\n",
    "small['insured'] = pd.to_numeric(small['insured'])\n",
    "small['uninsured'] = pd.to_numeric(small['uninsured'])"
   ]
  },
  {
   "cell_type": "code",
   "execution_count": null,
   "id": "747bbbfc",
   "metadata": {},
   "outputs": [],
   "source": [
    "#Creating two percentage columns for insured and uninsured\n",
    "small = small.assign(percent_insured=small['insured'] / small['population']*100)\n",
    "small = small.assign(percent_uninsured=small['uninsured'] / small['population']*100)"
   ]
  },
  {
   "cell_type": "code",
   "execution_count": null,
   "id": "48131f22",
   "metadata": {},
   "outputs": [],
   "source": [
    "#Rounding the columns to 2 decimal places\n",
    "small['percent_insured']=small['percent_insured'].round(2)\n",
    "small['percent_uninsured']=small['percent_uninsured'].round(2)"
   ]
  },
  {
   "cell_type": "code",
   "execution_count": null,
   "id": "2fa2257c",
   "metadata": {},
   "outputs": [],
   "source": [
    "#Creating a tennessee zip code list using the small dataframe\n",
    "zips = small['zip code'].tolist()"
   ]
  },
  {
   "cell_type": "code",
   "execution_count": null,
   "id": "c2a87ba2",
   "metadata": {},
   "outputs": [],
   "source": [
    "#creating new df\n",
    "df_zip = small.drop(['population',\n",
    " 'insured',\n",
    " 'uninsured',\n",
    " 'percent_insured',\n",
    " 'percent_uninsured'], axis=1)"
   ]
  },
  {
   "cell_type": "markdown",
   "id": "69ccf346",
   "metadata": {},
   "source": [
    "# Download the Clean Census Dataframe"
   ]
  },
  {
   "cell_type": "code",
   "execution_count": null,
   "id": "57a7d198",
   "metadata": {},
   "outputs": [],
   "source": [
    "#Create census df\n",
    "small.to_csv('zipcensusdata.csv')"
   ]
  },
  {
   "cell_type": "markdown",
   "id": "e0afbe92",
   "metadata": {},
   "source": [
    "# Import and Clean the uszips.csv"
   ]
  },
  {
   "cell_type": "code",
   "execution_count": null,
   "id": "0406f878",
   "metadata": {},
   "outputs": [],
   "source": [
    "#import uszips from https://simplemaps.com/data/us-zips\n",
    "df = pd.read_csv('uszips.csv')"
   ]
  },
  {
   "cell_type": "code",
   "execution_count": null,
   "id": "110bffcb",
   "metadata": {},
   "outputs": [],
   "source": [
    "#sort the dataframe to only include TN values\n",
    "df = df[df['state_id']=='TN']"
   ]
  },
  {
   "cell_type": "code",
   "execution_count": null,
   "id": "2477c4b4",
   "metadata": {},
   "outputs": [],
   "source": [
    "# drop columns that are not important\n",
    "df = df.drop(['lat','lng',\n",
    " 'zcta',\n",
    " 'parent_zcta',\n",
    " 'population',\n",
    " 'density',\n",
    " 'county_fips',\n",
    " 'county_weights',\n",
    " 'county_fips_all',\n",
    " 'imprecise',\n",
    " 'military',\n",
    " 'timezone'], axis=1)"
   ]
  },
  {
   "cell_type": "markdown",
   "id": "1183534f",
   "metadata": {},
   "source": [
    "# Download the Clean Zip Code Dataframe"
   ]
  },
  {
   "cell_type": "code",
   "execution_count": null,
   "id": "0bed4017",
   "metadata": {},
   "outputs": [],
   "source": [
    "df.to_csv('tnzips.csv')"
   ]
  },
  {
   "cell_type": "code",
   "execution_count": null,
   "id": "828db622",
   "metadata": {},
   "outputs": [],
   "source": []
  }
 ],
 "metadata": {
  "kernelspec": {
   "display_name": "Python 3 (ipykernel)",
   "language": "python",
   "name": "python3"
  },
  "language_info": {
   "codemirror_mode": {
    "name": "ipython",
    "version": 3
   },
   "file_extension": ".py",
   "mimetype": "text/x-python",
   "name": "python",
   "nbconvert_exporter": "python",
   "pygments_lexer": "ipython3",
   "version": "3.9.13"
  }
 },
 "nbformat": 4,
 "nbformat_minor": 5
}
