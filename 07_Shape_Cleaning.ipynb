{
 "cells": [
  {
   "cell_type": "code",
   "execution_count": null,
   "id": "217edf5c",
   "metadata": {},
   "outputs": [],
   "source": [
    "import json\n",
    "import pandas as pd\n",
    "import plotly.express as px\n",
    "import geopandas as gpd\n",
    "\n",
    "import pandas as pd\n",
    "import numpy as np\n",
    "import matplotlib.pyplot as plt\n",
    "import plotly.graph_objs as go\n",
    "from plotly.offline import init_notebook_mode, iplot\n",
    "\n",
    "init_notebook_mode(connected=True)  "
   ]
  },
  {
   "cell_type": "markdown",
   "id": "142a3254",
   "metadata": {},
   "source": [
    "# County Shape File Creation"
   ]
  },
  {
   "cell_type": "code",
   "execution_count": null,
   "id": "b804e579",
   "metadata": {},
   "outputs": [],
   "source": [
    "#import shape file\n",
    "og_tn_shape = gpd.read_file('cb_2022_us_county_500k.shp')\n",
    "#make a copy of shape file\n",
    "tn_shape = og_tn_shape.copy(deep = True)\n",
    "#remove geometry\n",
    "geocol = tn_shape.pop('geometry')\n",
    "#add geometry to the first column\n",
    "tn_shape.insert(0, 'geometry', geocol)\n",
    "#filter the state codes\n",
    "tn_shape = tn_shape[tn_shape['STUSPS'] == 'TN']\n",
    "#rename the county column\n",
    "tn_shape.rename(columns={'NAMELSAD': 'county'}, inplace=True)\n",
    "#drop none value row\n",
    "tn_shape.dropna(axis = 0, subset = 'geometry', how = 'any', inplace = True)\n",
    "#import dataframe\n",
    "df = pd.read_csv('CountyCensus2021.csv')\n",
    "#filter dataframe years \n",
    "df = df[df['year']==2021]\n",
    "\n",
    "\n",
    "#merging the shape and dataframe\n",
    "tn_shape = tn_shape.merge(df, on='county')"
   ]
  },
  {
   "cell_type": "code",
   "execution_count": null,
   "id": "159f624b",
   "metadata": {},
   "outputs": [],
   "source": [
    "tn_shape.columns = ['geometry', 'STATEFP', 'COUNTYFP', 'COUNTYNS', 'AFFGEOID', 'GEOID',\n",
    "       'NAME', 'county', 'STUSPS', 'STATE_NAME', 'LSAD', 'ALAND', 'AWATER',\n",
    "       'population', 'percent_uninsured', 'uninsured', 'percent_insured',\n",
    "       'insured', 'year']"
   ]
  },
  {
   "cell_type": "code",
   "execution_count": null,
   "id": "0b8c7087",
   "metadata": {},
   "outputs": [],
   "source": [
    "#save the new shape file\n",
    "tn_shape.to_file('filtered_tn_shapefile.shp')"
   ]
  },
  {
   "cell_type": "markdown",
   "id": "ebf505d6",
   "metadata": {},
   "source": [
    "# Zip Shape File Creation"
   ]
  },
  {
   "cell_type": "code",
   "execution_count": null,
   "id": "eea5890d",
   "metadata": {},
   "outputs": [],
   "source": [
    "#import shape file\n",
    "og_zip_shape = gpd.read_file('tl_2022_us_zcta520.shp')\n",
    "#make a copy of shape file\n",
    "zip_shape = og_zip_shape.copy(deep = True)\n",
    "#remove geometry\n",
    "geocol = zip_shape.pop('geometry')\n",
    "#add geometry to the first column\n",
    "zip_shape.insert(0, 'geometry', geocol)\n",
    "#rename the zip column\n",
    "zip_shape.rename(columns={'ZCTA5CE20':'zip'}, inplace=True)\n",
    "#drop none value row\n",
    "zip_shape.dropna(axis = 0, subset = 'geometry', how = 'any', inplace = True)\n",
    "#import tn census data\n",
    "tc = pd.read_csv('tnzips.csv')\n",
    "#drop the unnamed column\n",
    "tc.drop(['Unnamed: 0'], axis = 1, inplace=True)\n",
    "#import tn zips from \n",
    "df = pd.read_csv('zipcensusdata.csv')\n",
    "#drop the unnamed column\n",
    "df.drop(['Unnamed: 0'], axis = 1, inplace=True)\n",
    "#rename the zip code column\n",
    "df.rename(columns={'zip code':'zip'}, inplace=True)\n",
    "#merge the census and zip code dataframes\n",
    "df = df.merge(tc, on='zip')\n",
    "#filter specific counties\n",
    "df = df[df['county_name'].isin(['Coffee','Franklin', 'Moore', 'Marion', 'Grundy', 'Warren', 'Cannon', 'Bedford'])]\n",
    "#change zip column to str\n",
    "df['zip']=df['zip'].astype(str)\n",
    "#merge shape and dataframe\n",
    "zip_shape = zip_shape.merge(df, on='zip')"
   ]
  },
  {
   "cell_type": "code",
   "execution_count": null,
   "id": "2bb843d9",
   "metadata": {},
   "outputs": [],
   "source": [
    "#save the new shapefile\n",
    "zip_shape.to_file('filtered_zip_shapefile.shp')"
   ]
  },
  {
   "cell_type": "code",
   "execution_count": null,
   "id": "63d84b56",
   "metadata": {},
   "outputs": [],
   "source": []
  },
  {
   "cell_type": "code",
   "execution_count": null,
   "id": "e827c90a",
   "metadata": {},
   "outputs": [],
   "source": []
  }
 ],
 "metadata": {
  "kernelspec": {
   "display_name": "Python 3 (ipykernel)",
   "language": "python",
   "name": "python3"
  },
  "language_info": {
   "codemirror_mode": {
    "name": "ipython",
    "version": 3
   },
   "file_extension": ".py",
   "mimetype": "text/x-python",
   "name": "python",
   "nbconvert_exporter": "python",
   "pygments_lexer": "ipython3",
   "version": "3.9.13"
  }
 },
 "nbformat": 4,
 "nbformat_minor": 5
}
