{
 "cells": [
  {
   "cell_type": "code",
   "execution_count": null,
   "id": "69412ee6",
   "metadata": {},
   "outputs": [],
   "source": [
    "import pandas as pd\n",
    "import numpy as np\n",
    "import matplotlib.pyplot as plt\n",
    "import seaborn as sns\n",
    "import plotly.express as px\n",
    "import plotly.graph_objs as go\n",
    "from plotly.offline import init_notebook_mode, iplot\n",
    "\n",
    "init_notebook_mode(connected=True)  "
   ]
  },
  {
   "cell_type": "markdown",
   "id": "186b9487",
   "metadata": {},
   "source": [
    "# Population Reached Dataframe"
   ]
  },
  {
   "cell_type": "code",
   "execution_count": null,
   "id": "c915df2e",
   "metadata": {},
   "outputs": [],
   "source": [
    "def population_reached():    \n",
    "    gen_census = pd.read_csv('01general_census.csv')\n",
    "    cond = pd.read_csv('Encounter_Conditions.csv')\n",
    "    \n",
    "    area = ['Coffee County', 'Franklin County', 'Moore County']\n",
    "    pfh_area = ['Coffee', 'Franklin', 'Moore']\n",
    "    years4 = [2018, 2019, 2020, 2021]\n",
    "\n",
    "    county3 = gen_census[gen_census['county'].isin(area)]\n",
    "\n",
    "    cond_county = cond[cond['ptnt cnty f rsdnc'].isin(pfh_area)]\n",
    "\n",
    "    cond_county = cond_county.drop(['index', 'patientdob', 'patientsex', 'patientregd',\n",
    "           'status', 'ptnt rsn fr nctv stts', 'ptnt dcsd ysn', 'ptnt  fpl',\n",
    "           'patient city', 'patient zip', 'race', 'ethnicity',\n",
    "           'patient lang', 'cln enc date', 'appttype', 'prvdr', 'auth refto prvdr',\n",
    "           'icd10encounterdiagdescr', 'icd9encounterdiagdescr',\n",
    "           'patientsnomedproblemcodedesc', 'enc srv diag', 'age',\n",
    "           'enc month', 'enc day', 'distance'], axis=1)\n",
    "\n",
    "    first_df = cond_county.groupby(['enc year', 'patientid']).first().reset_index()\n",
    "\n",
    "    first_df = first_df[first_df['enc year'].isin(years4)]\n",
    "\n",
    "    grouped_df = first_df.groupby(['ptnt cnty f rsdnc', 'enc year', 'patientid']).size().reset_index(name='count')\n",
    "\n",
    "\n",
    "    result = grouped_df.groupby(['ptnt cnty f rsdnc', 'enc year']).size().reset_index(name='patient_count')\n",
    "\n",
    "    result.columns = ['county','year','patient_count']\n",
    "\n",
    "    result['county'] = result['county'] + ' County'\n",
    "\n",
    "    merged_df = pd.merge(result, county3, on=['county', 'year'])\n",
    "\n",
    "    merged_df = merged_df.drop(['Unnamed: 0'], axis=1)\n",
    "\n",
    "    merged_df['percent_reached'] = merged_df['patient_count'] / merged_df['uninsured']*100\n",
    "\n",
    "    pop_reached = merged_df\n",
    "    \n",
    "    return pop_reached"
   ]
  },
  {
   "cell_type": "code",
   "execution_count": null,
   "id": "57b7d3a7",
   "metadata": {},
   "outputs": [],
   "source": [
    "pop_reached = population_reached()"
   ]
  },
  {
   "cell_type": "code",
   "execution_count": null,
   "id": "81e3d3cf",
   "metadata": {},
   "outputs": [],
   "source": [
    "#pop_reached.to_csv('Population_Reached.csv')"
   ]
  },
  {
   "cell_type": "code",
   "execution_count": null,
   "id": "5e2ebbd9",
   "metadata": {},
   "outputs": [],
   "source": []
  }
 ],
 "metadata": {
  "kernelspec": {
   "display_name": "Python 3 (ipykernel)",
   "language": "python",
   "name": "python3"
  },
  "language_info": {
   "codemirror_mode": {
    "name": "ipython",
    "version": 3
   },
   "file_extension": ".py",
   "mimetype": "text/x-python",
   "name": "python",
   "nbconvert_exporter": "python",
   "pygments_lexer": "ipython3",
   "version": "3.9.13"
  }
 },
 "nbformat": 4,
 "nbformat_minor": 5
}
