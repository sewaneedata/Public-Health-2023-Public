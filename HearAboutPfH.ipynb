{
 "cells": [
  {
   "cell_type": "markdown",
   "id": "82ff348b",
   "metadata": {},
   "source": [
    "# Hear About Partners for Healing"
   ]
  },
  {
   "cell_type": "code",
   "execution_count": null,
   "id": "9b769204",
   "metadata": {},
   "outputs": [],
   "source": [
    "import pandas as pd\n",
    "import numpy as np\n",
    "import matplotlib.pyplot as plt\n",
    "import plotly.express as px\n",
    "import plotly.graph_objs as go\n",
    "from plotly.offline import init_notebook_mode, iplot\n",
    "\n",
    "init_notebook_mode(connected=True)"
   ]
  },
  {
   "cell_type": "markdown",
   "id": "e5604b5a",
   "metadata": {},
   "source": [
    "## Importing and Cleaning Dataframe"
   ]
  },
  {
   "cell_type": "code",
   "execution_count": null,
   "id": "7fb83433",
   "metadata": {},
   "outputs": [],
   "source": [
    "#import the csv\n",
    "ha = pd.read_csv('HearPfH.csv')"
   ]
  },
  {
   "cell_type": "code",
   "execution_count": null,
   "id": "02ed1cce",
   "metadata": {},
   "outputs": [],
   "source": [
    "#change the column names and drop a column\n",
    "ha.rename(columns = ha.loc[0], inplace=True)\n",
    "ha.drop(0, axis = 0, inplace=True)\n",
    "ha = ha.drop('patient name', axis=1)"
   ]
  },
  {
   "cell_type": "code",
   "execution_count": null,
   "id": "e3363db9",
   "metadata": {},
   "outputs": [],
   "source": [
    "#simplify the 'ref column' outputs\n",
    "ha['ref source'] = ha['ref source'].replace('Other : Cigna Connect INS', 'Other')\n",
    "ha['ref source'] = ha['ref source'].replace('Other : over 1 yr since last visit', 'Other')\n",
    "ha['ref source'] = ha['ref source'].replace('Referral from Social Service Agency', 'Social Service Agency')\n",
    "ha['ref source'] = ha['ref source'].replace('Referral from Other Clinic/Physician', 'Other Clinic/Physician')\n",
    "ha['ref source'] = ha['ref source'].replace('Referral from Hospital/ER', 'Hospital/ER')\n",
    "ha['ref source'] = ha['ref source'].replace('Other : over 1 yr since last visit', 'Other')"
   ]
  },
  {
   "cell_type": "markdown",
   "id": "ed94071b",
   "metadata": {},
   "source": [
    "## Reference Source Count Plot"
   ]
  },
  {
   "cell_type": "code",
   "execution_count": null,
   "id": "d7936b55",
   "metadata": {},
   "outputs": [],
   "source": [
    "#sort the ha ref source counts\n",
    "sorted_ha = ha['ref source'].value_counts().sort_values(ascending=False)\n",
    "\n",
    "#create the figure\n",
    "fig = px.histogram(ha, y='ref source', color='ref source', color_discrete_sequence=px.colors.sequential.Viridis, category_orders={'ref source': sorted_ha.index})\n",
    "\n",
    "#edit the hovertemplate\n",
    "fig.update_traces(hovertemplate='Reference Source: %{y}<br>Reference Count: %{x}<extra></extra>')\n",
    "\n",
    "\n",
    "#Change labels\n",
    "fig.update_layout(\n",
    "    yaxis_title='Reference Source',\n",
    "    xaxis_title='Reference Count',\n",
    "    title='How did you hear about Partners for Healing?'\n",
    ")\n",
    "\n",
    "#Plot\n",
    "fig.show()\n"
   ]
  },
  {
   "cell_type": "code",
   "execution_count": null,
   "id": "d8347b9f",
   "metadata": {},
   "outputs": [],
   "source": []
  },
  {
   "cell_type": "code",
   "execution_count": null,
   "id": "8e40ea16",
   "metadata": {},
   "outputs": [],
   "source": []
  }
 ],
 "metadata": {
  "kernelspec": {
   "display_name": "Python 3 (ipykernel)",
   "language": "python",
   "name": "python3"
  },
  "language_info": {
   "codemirror_mode": {
    "name": "ipython",
    "version": 3
   },
   "file_extension": ".py",
   "mimetype": "text/x-python",
   "name": "python",
   "nbconvert_exporter": "python",
   "pygments_lexer": "ipython3",
   "version": "3.9.13"
  }
 },
 "nbformat": 4,
 "nbformat_minor": 5
}
