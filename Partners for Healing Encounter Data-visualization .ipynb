{
 "cells": [
  {
   "cell_type": "markdown",
   "id": "7ede51c5",
   "metadata": {},
   "source": [
    "## Setup"
   ]
  },
  {
   "cell_type": "markdown",
   "id": "c9cf708b",
   "metadata": {},
   "source": [
    "### Imports"
   ]
  },
  {
   "cell_type": "code",
   "execution_count": null,
   "id": "f889a138",
   "metadata": {},
   "outputs": [],
   "source": [
    "import pandas as pd\n",
    "import numpy as np\n",
    "import matplotlib.pyplot as plt\n",
    "import seaborn as sns"
   ]
  },
  {
   "cell_type": "markdown",
   "id": "4dbfffc4",
   "metadata": {},
   "source": [
    "### Reading the Data"
   ]
  },
  {
   "cell_type": "code",
   "execution_count": null,
   "id": "9e638bb9",
   "metadata": {},
   "outputs": [],
   "source": [
    "enc = pd.read_csv('Encounter data without provider notes (3).csv', low_memory = False)\n",
    "enc.head()"
   ]
  },
  {
   "cell_type": "markdown",
   "id": "a3946b4e",
   "metadata": {},
   "source": [
    "## Data Cleaning"
   ]
  },
  {
   "cell_type": "markdown",
   "id": "7dcf90ea",
   "metadata": {},
   "source": [
    "### Changing the column keys to be the column names"
   ]
  },
  {
   "cell_type": "code",
   "execution_count": null,
   "id": "3b7e75d8",
   "metadata": {},
   "outputs": [],
   "source": [
    "enc.rename(columns = enc.loc[0], inplace = True)\n",
    "enc.drop(0, axis = 0, inplace = True)"
   ]
  },
  {
   "cell_type": "code",
   "execution_count": null,
   "id": "d846d6ee",
   "metadata": {},
   "outputs": [],
   "source": [
    "enc.info()"
   ]
  },
  {
   "cell_type": "code",
   "execution_count": null,
   "id": "5eeb34ea",
   "metadata": {},
   "outputs": [],
   "source": [
    "enc.columns"
   ]
  },
  {
   "cell_type": "markdown",
   "id": "bfd619f6",
   "metadata": {},
   "source": [
    "### Editing the icd9 column"
   ]
  },
  {
   "cell_type": "code",
   "execution_count": null,
   "id": "674f4ed5",
   "metadata": {},
   "outputs": [],
   "source": [
    "# changing the dashes in the icd9 column to be nan values for consistency\n",
    "enc['icd9encounterdiagdescr'] = enc['icd9encounterdiagdescr'].replace('-', np.nan)\n",
    "enc.head()"
   ]
  },
  {
   "cell_type": "markdown",
   "id": "5914224c",
   "metadata": {},
   "source": [
    "### Fixing merge issue\n",
    "\n",
    "Merge issue: there are multiple rows for each patient encounter based on the number of diagnoses the particular patient has. This was found due to there being a large amount of rows for particular patients."
   ]
  },
  {
   "cell_type": "code",
   "execution_count": null,
   "id": "24bf5951",
   "metadata": {},
   "outputs": [],
   "source": [
    "# condensing diagnosis rows to a list of diagnoses for each encounter\n",
    "enc_icd10 = enc[enc['icd10encounterdiagdescr'].notnull()].groupby(['patientid','cln enc date'])['icd10encounterdiagdescr'].apply(set).reset_index()\n",
    "enc_icd9 = enc[enc['icd9encounterdiagdescr'].notnull()].groupby(['patientid','cln enc date'])['icd9encounterdiagdescr'].apply(set).reset_index()\n",
    "enc_codedesc = enc[enc['patientsnomedproblemcodedesc'].notnull()].groupby(['patientid','cln enc date'])['patientsnomedproblemcodedesc'].apply(set).reset_index()\n",
    "enc_diag = enc[enc['enc srv diag'].notnull()].groupby(['patientid','cln enc date'])['enc srv diag'].apply(set).reset_index()\n",
    "\n",
    "# removing duplicate to make sure there is only one row per patient encounter\n",
    "enc1 = enc.drop_duplicates(['patientid', 'cln enc date']).reset_index()\n",
    "\n",
    "# dropping diagnosis columns from dataset without duplicates\n",
    "enc1.drop('icd10encounterdiagdescr', axis = 1, inplace = True)\n",
    "enc1.drop('icd9encounterdiagdescr', axis = 1, inplace = True)\n",
    "enc1.drop('patientsnomedproblemcodedesc', axis = 1, inplace = True)\n",
    "enc1.drop('enc srv diag', axis = 1, inplace = True)\n",
    "\n",
    "# merging condensed diagnosis columns\n",
    "cond = pd.merge(enc1, enc_icd10, on = ['patientid', 'cln enc date'], how = 'left')\n",
    "cond = pd.merge(cond, enc_icd9, on = ['patientid', 'cln enc date'], how = 'left')\n",
    "cond = pd.merge(cond, enc_codedesc, on = ['patientid', 'cln enc date'], how = 'left')\n",
    "cond = pd.merge(cond, enc_diag, on = ['patientid', 'cln enc date'], how = 'left')"
   ]
  },
  {
   "cell_type": "code",
   "execution_count": null,
   "id": "5e7aa8bc",
   "metadata": {},
   "outputs": [],
   "source": [
    "# making sure no data was lost by checking the shape of both datasets.\n",
    "# they should have the same number of rows and cond should have an additional 4 diagnoses columns\n",
    "\n",
    "print(enc1.shape)\n",
    "print(cond.shape)"
   ]
  },
  {
   "cell_type": "markdown",
   "id": "2795d931",
   "metadata": {},
   "source": [
    "### Fixing mixed datatypes"
   ]
  },
  {
   "cell_type": "code",
   "execution_count": null,
   "id": "23f5bfb4",
   "metadata": {},
   "outputs": [],
   "source": []
  },
  {
   "cell_type": "code",
   "execution_count": null,
   "id": "7cd927f1",
   "metadata": {},
   "outputs": [],
   "source": [
    "cond.info()"
   ]
  },
  {
   "cell_type": "code",
   "execution_count": null,
   "id": "58202ec0",
   "metadata": {},
   "outputs": [],
   "source": [
    "cond.head()"
   ]
  },
  {
   "cell_type": "code",
   "execution_count": null,
   "id": "2ac1d3cd",
   "metadata": {},
   "outputs": [],
   "source": [
    "# checking to see which columns have mixed datatypes\n",
    "\n",
    "from pandas.api.types import infer_dtype\n",
    "\n",
    "columns = cond.columns\n",
    "for col in columns:\n",
    "    print(col + ' - ' + infer_dtype(cond[col]))"
   ]
  },
  {
   "cell_type": "code",
   "execution_count": null,
   "id": "e707ae36",
   "metadata": {},
   "outputs": [],
   "source": [
    "# making the patientid and zip code columns all strings\n",
    "\n",
    "cond['patientid'] = [str(x) for x in cond['patientid']]\n",
    "cond['patient zip'] = [str(x) for x in cond['patient zip']]"
   ]
  },
  {
   "cell_type": "code",
   "execution_count": null,
   "id": "2c94f8f7",
   "metadata": {},
   "outputs": [],
   "source": [
    "# replace incorrect zip code entry\n",
    "cond['patient zip'] = cond['patient zip'].replace(['2472'], '37184')\n",
    "cond['patient zip'] = cond['patient zip'].replace('37355-1424', '37355')\n",
    "\n",
    "# replace incorrect city entry\n",
    "cond['patient city'] = cond['patient city'].replace(['TULLAHOMATULLAHOMA'], 'TULLAHOMA')\n",
    "cond['patient city'] = cond['patient city'].replace(['MANCH'], 'MONTEAGLE')"
   ]
  },
  {
   "cell_type": "code",
   "execution_count": null,
   "id": "9c3bbec7",
   "metadata": {},
   "outputs": [],
   "source": [
    "# changing the nan values in the patient federal poverty level to be the average federal poverty level\n",
    "\n",
    "# first making sure that all non-null values are numerical\n",
    "cond['ptnt  fpl'] = [float(x) for x in cond['ptnt  fpl']]\n",
    "\n",
    "# finding the mean of the federal poverty levels\n",
    "mean_fpl = cond['ptnt  fpl'].mean()\n",
    "\n",
    "# filling all null values with the mean\n",
    "cond['ptnt  fpl'] = cond['ptnt  fpl'].fillna(mean_fpl)"
   ]
  },
  {
   "cell_type": "code",
   "execution_count": null,
   "id": "880c46a8",
   "metadata": {},
   "outputs": [],
   "source": [
    "# changing null values for the patient registration date, patient reason for inactive status,\n",
    "#    race, ethnicity, patient lang and outgoing referral columns to be unknown\n",
    "\n",
    "cond['patientregd'] = cond['patientregd'].fillna('unknown')\n",
    "cond['ptnt rsn fr nctv stts'] = cond['ptnt rsn fr nctv stts'].fillna('unspecified')\n",
    "cond['race'] = cond['race'].fillna('unspecified')\n",
    "cond['ethnicity'] = cond['ethnicity'].fillna('unspecified')\n",
    "cond['patient lang'] = cond['patient lang'].fillna('unspecified')\n",
    "\n",
    "# if a value is null in the patient deceased column then they are still alive ??\n",
    "cond['ptnt dcsd ysn'] = cond['ptnt dcsd ysn'].fillna('still alive')\n",
    "\n",
    "# if a value is null in the outgoing referral column the patient has not gotten a referral ??\n",
    "cond['auth refto prvdr'] = cond['auth refto prvdr'].fillna('no referral')"
   ]
  },
  {
   "cell_type": "code",
   "execution_count": null,
   "id": "4d6ee3e6",
   "metadata": {},
   "outputs": [],
   "source": [
    "# filling in null patient county of residence values based on patient city\n",
    "\n",
    "# all patients with null counties live in Watertown which is in Wilson county\n",
    "cond[cond['ptnt cnty f rsdnc'].isnull()]['patient city'].value_counts()\n",
    "\n",
    "# filling all null counties with Wilson county\n",
    "cond['ptnt cnty f rsdnc'] = cond['ptnt cnty f rsdnc'].fillna('Wilson')"
   ]
  },
  {
   "cell_type": "code",
   "execution_count": null,
   "id": "a235e700",
   "metadata": {},
   "outputs": [],
   "source": [
    "cond.info()"
   ]
  },
  {
   "cell_type": "code",
   "execution_count": null,
   "id": "a9e87cf2",
   "metadata": {},
   "outputs": [],
   "source": [
    "# fixing null values for the diagnosis columns (icd9, problem description, srv diagnosis)\n",
    "\n",
    "# NOTE: will do this once we talk to Emilie"
   ]
  },
  {
   "cell_type": "markdown",
   "id": "2b5604d1",
   "metadata": {},
   "source": [
    "### Adding columns"
   ]
  },
  {
   "cell_type": "code",
   "execution_count": null,
   "id": "b2516d62",
   "metadata": {},
   "outputs": [],
   "source": [
    "# CREATING THE AGE COL\n",
    "## description: a column that represents the patients age at the time of the clinic encounter\n",
    "\n",
    "from datetime import datetime\n",
    "\n",
    "# Format according to datetime module\n",
    "dob = pd.to_datetime(cond['patientdob'], format='%m/%d/%Y')\n",
    "encdate = pd.to_datetime(cond['cln enc date'], format='%m/%d/%Y')\n",
    "\n",
    "# Calculate the age in days\n",
    "age_days = (encdate - dob).dt.days\n",
    "\n",
    "# Convert age from days to years\n",
    "age_years = age_days // 365.25\n",
    "\n",
    "# Create the new column and make the ages ints\n",
    "cond['age'] = [int(x) for x in age_years]"
   ]
  },
  {
   "cell_type": "code",
   "execution_count": null,
   "id": "abe3e966",
   "metadata": {},
   "outputs": [],
   "source": [
    "# CREATING THE YEAR COL\n",
    "## description: a column that shows what year the patient encounter took place\n",
    "\n",
    "# function that returns the year from a date format of 'mm/dd/year'\n",
    "def dayToYear(day):\n",
    "    return day.split('/')[-1]\n",
    "\n",
    "# creating the new column\n",
    "cond['enc year'] = [dayToYear(day) for day in cond['cln enc date']]"
   ]
  },
  {
   "cell_type": "code",
   "execution_count": null,
   "id": "6d5cdf71",
   "metadata": {},
   "outputs": [],
   "source": [
    "# CREATING THE DISTANCE COL\n",
    "## description: a column that represents the distance between patients and the clinic (calculated by zip code)\n",
    "\n",
    "import pgeocode\n",
    "\n",
    "# function that gets the distance between two zip codes using the pgeocode package\n",
    "def get_distance(x, y):\n",
    "    usa_zipcodes = pgeocode.GeoDistance('us')\n",
    "    distance_in_kms = usa_zipcodes.query_postal_code(x, y.values)\n",
    "    return distance_in_kms\n",
    "\n",
    "# creating the new column\n",
    "cond['distance'] = get_distance('37388', cond['patient zip'])"
   ]
  },
  {
   "cell_type": "code",
   "execution_count": null,
   "id": "b98cb7ba",
   "metadata": {},
   "outputs": [],
   "source": []
  },
  {
   "cell_type": "code",
   "execution_count": null,
   "id": "4d82b5bf",
   "metadata": {},
   "outputs": [],
   "source": [
    "patients = cond.groupby('patientid').agg({\n",
    "    'patientsex': 'first',\n",
    "    'age': 'first',\n",
    "    'patientdob': 'first',\n",
    "    'patientregd': 'first',\n",
    "    'status': 'first',\n",
    "    'ptnt rsn fr nctv stts': 'first',\n",
    "    'ptnt dcsd ysn': 'first',\n",
    "    'ptnt  fpl': 'first',\n",
    "    'patient city': 'first',\n",
    "    'patient zip': 'first',\n",
    "    'ptnt cnty f rsdnc': 'first',\n",
    "    'race': 'first',\n",
    "    'ethnicity': 'first',\n",
    "    'patient lang': 'first',\n",
    "    'appttype': 'first',\n",
    "    'prvdr': 'first',\n",
    "    'icd10encounterdiagdescr': 'first',\n",
    "    'icd9encounterdiagdescr': 'first',\n",
    "    'enc srv diag': 'first',\n",
    "    'patientsnomedproblemcodedesc': 'first'\n",
    "}).reset_index()"
   ]
  },
  {
   "cell_type": "code",
   "execution_count": null,
   "id": "dacdbcc9",
   "metadata": {},
   "outputs": [],
   "source": [
    "# Convert 'patientregd' column to datetime type, handling errors by converting invalid dates to NaT\n",
    "patients['patientregd'] = pd.to_datetime(patients['patientregd'], errors='coerce')\n",
    "\n",
    "# Extract the year from the 'patientregd' column and create a new 'year' column\n",
    "patients['year'] = patients['patientregd'].dt.year"
   ]
  },
  {
   "cell_type": "code",
   "execution_count": null,
   "id": "76d56ca0",
   "metadata": {},
   "outputs": [],
   "source": [
    "\n",
    "# Merge the 'patients' DataFrame with the 'cond' DataFrame on the 'patientid' column\n",
    "patients = pd.merge(patients, cond[['patientid', 'distance']], on='patientid', how='left')\n"
   ]
  },
  {
   "cell_type": "code",
   "execution_count": null,
   "id": "3e3bec3d",
   "metadata": {},
   "outputs": [],
   "source": []
  },
  {
   "cell_type": "code",
   "execution_count": null,
   "id": "4db8c764",
   "metadata": {},
   "outputs": [],
   "source": []
  },
  {
   "cell_type": "code",
   "execution_count": null,
   "id": "5b0a32fd",
   "metadata": {},
   "outputs": [],
   "source": [
    "import pandas as pd\n",
    "import plotly.express as px\n",
    "\n",
    "# Assuming 'patients' is your dataset, if it's different, please replace it accordingly\n",
    "# For example: patients = pd.read_csv('your_dataset.csv')\n",
    "\n",
    "# Convert 'patientregd' column to datetime type\n",
    "patients['patientregd'] = pd.to_datetime(patients['patientregd'])\n",
    "\n",
    "# Extract the year from the 'patientregd' column and create a new 'registration_year' column\n",
    "patients['registration_year'] = patients['patientregd'].dt.year\n",
    "\n",
    "# Count the number of registrations for each year\n",
    "clinic_usage = patients['registration_year'].value_counts().reset_index()\n",
    "clinic_usage.columns = ['Year', 'Number of Registrations']\n",
    "\n",
    "# Sort the data by year\n",
    "clinic_usage = clinic_usage.sort_values('Year')\n",
    "\n",
    "# Create the line graph\n",
    "fig = px.line(clinic_usage, x='Year', y='Number of Registrations', title='Clinic Usage Over Years',\n",
    "              labels={'Year': 'Year', 'Number of Registrations': 'Number of Registrations'})\n",
    "\n",
    "fig.show()\n"
   ]
  },
  {
   "cell_type": "code",
   "execution_count": null,
   "id": "4760b343",
   "metadata": {},
   "outputs": [],
   "source": [
    "import pandas as pd\n",
    "import plotly.express as px\n",
    "import ipywidgets as widgets\n",
    "from IPython.display import display\n",
    "\n",
    "import plotly.offline as pyo\n",
    "import plotly.io as pio\n",
    "pio.renderers.default = 'notebook'\n",
    "pyo.init_notebook_mode(connected=True)\n",
    "\n",
    "def plot_gender_distribution(year):\n",
    "    filtered_data = patients[patients['year'] == year]\n",
    "    gender_counts = filtered_data['patientsex'].value_counts()\n",
    "    fig = px.pie(values=gender_counts, names=gender_counts.index, title=f\"Gender Distribution for Year {year}\")\n",
    "    fig.show()\n",
    "\n",
    "# Create a slider widget to select the year\n",
    "year_slider = widgets.IntSlider(min=patients['year'].min(), max=patients['year'].max(),\n",
    "                                step=1, value=patients['year'].min(),\n",
    "                                description='Year')\n",
    "\n",
    "widgets.interactive(plot_gender_distribution, year=year_slider)\n"
   ]
  },
  {
   "cell_type": "code",
   "execution_count": null,
   "id": "4c13bc89",
   "metadata": {},
   "outputs": [],
   "source": [
    "# Create a function to plot the interactive histogram\n",
    "def plot_top_10_diagnoses(year):\n",
    "    # Filter the DataFrame based on the selected year\n",
    "    filtered_data = patients[patients['year'] == year]\n",
    "\n",
    "    # Create a list of all snomed diagnoses for the selected year\n",
    "    diagnosesRep = []\n",
    "    for dSet in filtered_data['patientsnomedproblemcodedesc']:\n",
    "        if type(dSet) == set:\n",
    "            for diagnosis in dSet:\n",
    "                diagnosesRep.append(diagnosis)\n",
    "    \n",
    "    # Create a set to get a list of unique diagnoses with no duplicates\n",
    "    diagnoses = set(diagnosesRep)\n",
    "    \n",
    "    # Create a dictionary between the snomed code and the diagnosis\n",
    "    diagnoses_dict = {}\n",
    "    for diag in diagnoses:\n",
    "        diagnoses_dict[diag.split(': ')[1]] = diag.split(':')[0]\n",
    "    \n",
    "    # Create a dictionary between each diagnosis and the number of patients that have the diagnosis\n",
    "    diagnoses_counts = {}\n",
    "    for diag in diagnoses:\n",
    "        diagnoses_counts[diag] = 0\n",
    "    for diag in diagnoses:\n",
    "        for patient_diag in filtered_data['patientsnomedproblemcodedesc']:\n",
    "            if type(patient_diag) == set and diag in patient_diag:\n",
    "                diagnoses_counts[diag] += 1\n",
    "\n",
    "    # Sort the dictionary from most to least frequent diagnosis\n",
    "    def value_getter(item):\n",
    "        return item[1]\n",
    "            \n",
    "    popular_diag = sorted(diagnoses_counts.items(), key=value_getter, reverse=True)[:10]\n",
    "\n",
    "    # Create data for the histogram\n",
    "    data = pd.DataFrame({'Diagnosis': [diag.split(': ')[1] for diag, count in popular_diag],\n",
    "                         'Number of Patients': [count for diag, count in popular_diag]})\n",
    "\n",
    "    # Create an interactive histogram\n",
    "    fig = px.bar(data, x='Diagnosis', y='Number of Patients',\n",
    "                 labels={'Diagnosis': 'Diagnosis', 'Number of Patients': 'Number of Patients'},\n",
    "                 title=f'Top 10 Diagnoses for Year {year}')\n",
    "\n",
    "    fig.show()\n",
    "\n",
    "# Create a slider widget to select the year\n",
    "year_slider = widgets.IntSlider(min=patients['year'].min(), max=patients['year'].max(),\n",
    "                                step=1, value=patients['year'].min(),\n",
    "                                description='Year')\n",
    "\n",
    "# Link the slider to the plot function\n",
    "widgets.interactive(plot_top_10_diagnoses, year=year_slider)\n"
   ]
  },
  {
   "cell_type": "code",
   "execution_count": null,
   "id": "8c201620",
   "metadata": {},
   "outputs": [],
   "source": [
    "import pandas as pd\n",
    "import plotly.express as px\n",
    "import ipywidgets as widgets\n",
    "from IPython.display import display\n",
    "\n",
    "# Assuming 'patients' is your dataset, if it's different, please replace it accordingly\n",
    "# For example: patients = pd.read_csv('your_dataset.csv')\n",
    "\n",
    "# Create a function to plot the interactive histogram\n",
    "def plot_ethnicity_distribution(year):\n",
    "    # Filter the DataFrame based on the selected year\n",
    "    filtered_data = patients[patients['year'] == year]\n",
    "\n",
    "    # Create a dictionary between each ethnicity and the number of patients with that ethnicity\n",
    "    ethnicity_counts = filtered_data['ethnicity'].value_counts()\n",
    "\n",
    "    # Create data for the histogram\n",
    "    data = pd.DataFrame({'Ethnicity': ethnicity_counts.index,\n",
    "                         'Number of Patients': ethnicity_counts.values})\n",
    "\n",
    "    # Create an interactive histogram\n",
    "    fig = px.bar(data, x='Ethnicity', y='Number of Patients',\n",
    "                 labels={'Ethnicity': 'Ethnicity', 'Number of Patients': 'Number of Patients'},\n",
    "                 title=f'Patients Ethnicity Distribution for Year {year}')\n",
    "\n",
    "    fig.show()\n",
    "\n",
    "# Create a slider widget to select the year\n",
    "year_slider = widgets.IntSlider(min=patients['year'].min(), max=patients['year'].max(),\n",
    "                                step=1, value=patients['year'].min(),\n",
    "                                description='Year')\n",
    "\n",
    "# Link the slider to the plot function\n",
    "widgets.interactive(plot_ethnicity_distribution, year=year_slider)\n"
   ]
  },
  {
   "cell_type": "code",
   "execution_count": null,
   "id": "1622273b",
   "metadata": {},
   "outputs": [],
   "source": [
    "import pandas as pd\n",
    "import plotly.express as px\n",
    "import ipywidgets as widgets\n",
    "from IPython.display import display\n",
    "\n",
    "# Assuming 'patients' is your dataset, if it's different, please replace it accordingly\n",
    "# For example: patients = pd.read_csv('your_dataset.csv')\n",
    "\n",
    "# Create a function to plot the interactive histogram\n",
    "def plot_distance_histogram(year):\n",
    "    # Filter the DataFrame based on the selected year\n",
    "    filtered_data = patients[patients['year'] == year]\n",
    "\n",
    "    # Create an interactive histogram for distance traveled\n",
    "    fig = px.histogram(filtered_data, x='distance', nbins=20, color='patientsex',\n",
    "                       labels={'distance': 'Distance Traveled', 'patientsex': 'Patient Gender'},\n",
    "                       color_discrete_sequence=px.colors.qualitative.Plotly,\n",
    "                       title=f'Distance Traveled Histogram for Year {year}')\n",
    "\n",
    "    fig.show()\n",
    "\n",
    "# Create a slider widget to select the year\n",
    "year_slider = widgets.IntSlider(min=patients['year'].min(), max=patients['year'].max(),\n",
    "                                step=1, value=patients['year'].min(),\n",
    "                                description='Year')\n",
    "\n",
    "# Link the slider to the plot function\n",
    "widgets.interactive(plot_distance_histogram, year=year_slider)\n"
   ]
  },
  {
   "cell_type": "code",
   "execution_count": null,
   "id": "c206af96",
   "metadata": {},
   "outputs": [],
   "source": [
    "import pandas as pd\n",
    "import plotly.express as px\n",
    "import ipywidgets as widgets\n",
    "from IPython.display import display\n",
    "\n",
    "def plot_age_distribution(year):\n",
    "    # Filter the DataFrame based on the selected year\n",
    "    filtered_data = patients[patients['year'] == year]\n",
    "\n",
    "    # Create an interactive histogram for patient age\n",
    "    fig = px.histogram(filtered_data, x='age', nbins=20, title=f'Age Distribution for Year {year}',\n",
    "                       labels={'age': 'Age'}, width=600)\n",
    "\n",
    "    fig.update_layout(showlegend=False)\n",
    "\n",
    "    fig.show()\n",
    "\n",
    "# Create a slider widget to select the year\n",
    "year_slider = widgets.IntSlider(min=patients['year'].min(), max=patients['year'].max(),\n",
    "                                step=1, value=patients['year'].min(),\n",
    "                                description='Year')\n",
    "\n",
    "# Link the slider to the plot function\n",
    "widgets.interactive(plot_age_distribution, year=year_slider)\n"
   ]
  },
  {
   "cell_type": "code",
   "execution_count": null,
   "id": "3490b305",
   "metadata": {},
   "outputs": [],
   "source": [
    "patients.columns"
   ]
  },
  {
   "cell_type": "code",
   "execution_count": null,
   "id": "b48bbd5d",
   "metadata": {},
   "outputs": [],
   "source": [
    "patients.columns"
   ]
  },
  {
   "cell_type": "markdown",
   "id": "37d6fce1",
   "metadata": {},
   "source": [
    "# creating a year column"
   ]
  },
  {
   "cell_type": "code",
   "execution_count": null,
   "id": "09f22542",
   "metadata": {},
   "outputs": [],
   "source": [
    "# Convert 'patientregd' column to datetime type, handling errors by converting invalid dates to NaT\n",
    "patients['patientregd'] = pd.to_datetime(patients['patientregd'], errors='coerce')\n",
    "\n",
    "# Extract the year from the 'patientregd' column and create a new 'year' column\n",
    "patients['year'] = patients['patientregd'].dt.year"
   ]
  },
  {
   "cell_type": "code",
   "execution_count": null,
   "id": "d06d30a7",
   "metadata": {},
   "outputs": [],
   "source": []
  },
  {
   "cell_type": "code",
   "execution_count": null,
   "id": "811cd37a",
   "metadata": {},
   "outputs": [],
   "source": [
    "pip install plotly"
   ]
  },
  {
   "cell_type": "code",
   "execution_count": null,
   "id": "bf9a90af",
   "metadata": {},
   "outputs": [],
   "source": [
    "pip install ipywidgets"
   ]
  },
  {
   "cell_type": "code",
   "execution_count": null,
   "id": "9b078718",
   "metadata": {},
   "outputs": [],
   "source": [
    "patients.head()"
   ]
  },
  {
   "cell_type": "code",
   "execution_count": null,
   "id": "59622b5a",
   "metadata": {},
   "outputs": [],
   "source": [
    "\n",
    "# Merge the 'patients' DataFrame with the 'cond' DataFrame on the 'patientid' column\n",
    "patients = pd.merge(patients, cond[['patientid', 'distance']], on='patientid', how='left')\n"
   ]
  },
  {
   "cell_type": "code",
   "execution_count": null,
   "id": "8c2888bc",
   "metadata": {},
   "outputs": [],
   "source": [
    "import pandas as pd\n",
    "import plotly.express as px\n",
    "import ipywidgets as widgets\n",
    "from IPython.display import display\n",
    "\n",
    "# Assuming 'patients' is your dataset, if it's different, please replace it accordingly\n",
    "# For example: patients = pd.read_csv('your_dataset.csv')\n",
    "\n",
    "# Create a function to plot the interactive graph\n",
    "def plot_distance_traveled(year):\n",
    "    # Filter the DataFrame based on the selected year\n",
    "    filtered_data = patients[patients['year'] == year]\n",
    "\n",
    "    # Create an interactive scatter plot for distance traveled\n",
    "    fig = px.scatter(filtered_data, x='patientid', y='distance', color='patientsex', size='age',\n",
    "                     labels={'distance': 'Distance Traveled', 'patientid': 'Patient ID', 'age': 'Age'},\n",
    "                     color_discrete_sequence=px.colors.qualitative.Plotly,\n",
    "                     title=f'Distance Traveled by Each Patient for Year {year}')\n",
    "\n",
    "    fig.show()\n",
    "\n",
    "# Create a slider widget to select the year\n",
    "year_slider = widgets.IntSlider(min=patients['year'].min(), max=patients['year'].max(),\n",
    "                                step=1, value=patients['year'].min(),\n",
    "                                description='Year')\n",
    "\n",
    "# Link the slider to the plot function\n",
    "widgets.interactive(plot_distance_traveled, year=year_slider)\n"
   ]
  },
  {
   "cell_type": "code",
   "execution_count": null,
   "id": "c983bab6",
   "metadata": {},
   "outputs": [],
   "source": [
    "import pandas as pd\n",
    "import plotly.express as px\n",
    "import ipywidgets as widgets\n",
    "from IPython.display import display\n",
    "\n",
    "# Assuming 'patients' is your dataset, if it's different, please replace it accordingly\n",
    "# For example: patients = pd.read_csv('your_dataset.csv')\n",
    "\n",
    "# Create a function to plot the interactive scatter plot\n",
    "def plot_distance_vs_age(year):\n",
    "    # Filter the DataFrame based on the selected year\n",
    "    filtered_data = patients[patients['year'] == year].copy()\n",
    "\n",
    "    # Define the age ranges\n",
    "    age_ranges = [(18, 25), (26, 34), (35, 44), (45, 54), (55, 64), (71, float('inf'))]\n",
    "\n",
    "    # Assign age range labels based on age values\n",
    "    filtered_data['age_range'] = ''\n",
    "    for i, (start, end) in enumerate(age_ranges):\n",
    "        filtered_data.loc[(filtered_data['age'] >= start) & (filtered_data['age'] <= end), 'age_range'] = f'{start}-{end}'\n",
    "\n",
    "    # Plot the interactive scatter plot\n",
    "    fig = px.scatter(filtered_data, x='age_range', y='distance', color='age_range',\n",
    "                     labels={'age_range': 'Age Range', 'distance': 'Distance'},\n",
    "                     title=f'Relationship Between Distance and Age Range (Year {year})')\n",
    "\n",
    "    fig.show()\n",
    "\n",
    "# Create a slider widget to select the year\n",
    "year_slider = widgets.IntSlider(min=patients['year'].min(), max=patients['year'].max(),\n",
    "                                step=1, value=patients['year'].min(),\n",
    "                                description='Year')\n",
    "\n",
    "# Link the slider to the plot function\n",
    "widgets.interactive(plot_distance_vs_age, year=year_slider)\n"
   ]
  },
  {
   "cell_type": "code",
   "execution_count": null,
   "id": "5c2044ab",
   "metadata": {},
   "outputs": [],
   "source": [
    "import pandas as pd\n",
    "import plotly.express as px\n",
    "import ipywidgets as widgets\n",
    "from IPython.display import display\n",
    "\n",
    "# Assuming 'patients' is your dataset, if it's different, please replace it accordingly\n",
    "# For example: patients = pd.read_csv('your_dataset.csv')\n",
    "\n",
    "# Create a function to plot the interactive bar plot\n",
    "def plot_distance_vs_age(year):\n",
    "    # Filter the DataFrame based on the selected year\n",
    "    filtered_data = patients[patients['year'] == year].copy()\n",
    "\n",
    "    # Define the age ranges\n",
    "    # Define the age ranges\n",
    "    age_ranges = [(0,17),(18, 25), (26, 35), (36, 50), (51, 70), (71, float('inf'))]\n",
    "\n",
    "    # Assign age range labels based on age values\n",
    "    filtered_data['age_range'] = ''\n",
    "    for i, (start, end) in enumerate(age_ranges):\n",
    "        filtered_data.loc[(filtered_data['age'] >= start) & (filtered_data['age'] <= end), 'age_range'] = f'{start}-{end}'\n",
    "\n",
    "    # Calculate the average distance for each age range\n",
    "    avg_distance = filtered_data.groupby('age_range')['distance'].mean().reset_index()\n",
    "\n",
    "    # Plot the interactive bar plot\n",
    "    fig = px.bar(avg_distance, x='age_range', y='distance',\n",
    "                 labels={'age_range': 'Age Range', 'distance': 'Average Distance'},\n",
    "                 title=f'Average Distance by Age Range (Year {year})')\n",
    "\n",
    "    fig.show()\n",
    "\n",
    "# Create a slider widget to select the year\n",
    "year_slider = widgets.IntSlider(min=patients['year'].min(), max=patients['year'].max(),\n",
    "                                step=1, value=patients['year'].min(),\n",
    "                                description='Year')\n",
    "\n",
    "# Link the slider to the plot function\n",
    "widgets.interactive(plot_distance_vs_age, year=year_slider)\n"
   ]
  },
  {
   "cell_type": "code",
   "execution_count": null,
   "id": "8380dda3",
   "metadata": {},
   "outputs": [],
   "source": [
    "min_age = patients['age'].min()\n",
    "print (min_age)"
   ]
  },
  {
   "cell_type": "code",
   "execution_count": null,
   "id": "7f61f254",
   "metadata": {},
   "outputs": [],
   "source": [
    "import pandas as pd\n",
    "import plotly.express as px\n",
    "import ipywidgets as widgets\n",
    "from IPython.display import display\n",
    "\n",
    "import plotly.offline as pyo\n",
    "import plotly.io as pio\n",
    "pio.renderers.default = 'notebook'\n",
    "pyo.init_notebook_mode(connected=True)\n",
    "\n",
    "def plot_gender_distribution(year):\n",
    "    filtered_data = patients[patients['year'] == year]\n",
    "    gender_counts = filtered_data['patientsex'].value_counts().reset_index()\n",
    "    gender_counts.columns = ['Gender', 'Count']\n",
    "    fig = px.bar(gender_counts, x='Gender', y='Count', title=f\"Gender Distribution for Year {year}\")\n",
    "    fig.show()\n",
    "\n",
    "# Create a slider widget to select the year\n",
    "year_slider = widgets.IntSlider(min=patients['year'].min(), max=patients['year'].max(),\n",
    "                                step=1, value=patients['year'].min(),\n",
    "                                description='Year')\n",
    "\n",
    "widgets.interactive(plot_gender_distribution, year=year_slider)\n"
   ]
  },
  {
   "cell_type": "code",
   "execution_count": null,
   "id": "4397937a",
   "metadata": {},
   "outputs": [],
   "source": [
    "patients.head()"
   ]
  },
  {
   "cell_type": "code",
   "execution_count": null,
   "id": "2b3c6e94",
   "metadata": {},
   "outputs": [],
   "source": [
    "import pandas as pd\n",
    "import plotly.express as px\n",
    "import ipywidgets as widgets\n",
    "from IPython.display import display\n",
    "\n",
    "# Assuming 'patients' is your dataset, if it's different, please replace it accordingly\n",
    "# For example: patients = pd.read_csv('your_dataset.csv')\n",
    "\n",
    "# Define the age ranges\n",
    "age_ranges = [(0, 17), (18, 25), (26, 35), (36, 50), (51, 70), (71, float('inf'))]\n",
    "\n",
    "# Create a function to plot the interactive count plot\n",
    "def plot_age_count(year):\n",
    "    filtered_data = patients[patients['registration_year'] == year].copy()\n",
    "\n",
    "    # Assign age range labels based on age values\n",
    "    filtered_data['age_range'] = pd.cut(filtered_data['age'], bins=[x[0] for x in age_ranges] + [age_ranges[-1][1] + 1],\n",
    "                                        labels=['0-17', '18-25', '26-35', '36-50', '51-70', '71+'])\n",
    "\n",
    "    fig = px.histogram(filtered_data, x='age_range', title=f\"Age Range Count for Year {year}\")\n",
    "    fig.update_layout(bargap=0.1)\n",
    "    fig.show()\n",
    "\n",
    "# Get the unique registration years from the dataset\n",
    "years = patients['registration_year'].unique()\n",
    "\n",
    "# Create a dropdown widget to select the year\n",
    "year_dropdown = widgets.Dropdown(options=years, description='Year')\n",
    "\n",
    "# Link the dropdown widget to the plot function\n",
    "widgets.interactive(plot_age_count, year=year_dropdown)\n"
   ]
  },
  {
   "cell_type": "code",
   "execution_count": null,
   "id": "c91716af",
   "metadata": {},
   "outputs": [],
   "source": [
    "import pandas as pd\n",
    "import plotly.express as px\n",
    "import ipywidgets as widgets\n",
    "from IPython.display import display\n",
    "\n",
    "# Assuming 'patients' is your dataset, if it's different, please replace it accordingly\n",
    "# For example: patients = pd.read_csv('your_dataset.csv')\n",
    "\n",
    "# Drop rows with missing registration years\n",
    "patients_cleaned = patients.dropna(subset=['registration_year'])\n",
    "\n",
    "# Define the age ranges\n",
    "age_ranges = [(0, 17), (18, 25), (26, 35), (36, 50), (51, 70), (71, float('inf'))]\n",
    "\n",
    "# Create a function to plot the interactive count plot\n",
    "def plot_age_count(year):\n",
    "    filtered_data = patients_cleaned[patients_cleaned['registration_year'] == year].copy()\n",
    "\n",
    "    # Assign age range labels based on age values\n",
    "    filtered_data['age_range'] = pd.cut(filtered_data['age'], bins=[x[0] for x in age_ranges] + [age_ranges[-1][1] + 1],\n",
    "                                        labels=['0-17', '18-25', '26-35', '36-50', '51-70', '71+'])\n",
    "\n",
    "    fig = px.histogram(filtered_data, x='age_range', title=f\"Age Range Count for Year {year}\")\n",
    "    fig.update_layout(bargap=0.1)\n",
    "    fig.show()\n",
    "\n",
    "# Get the unique registration years from the cleaned dataset\n",
    "years = patients_cleaned['registration_year'].unique()\n",
    "\n",
    "# Create a slider widget to select the year\n",
    "year_slider = widgets.IntSlider(min=int(years.min()), max=int(years.max()), step=1, value=int(years.min()), description='Year')\n",
    "\n",
    "# Link the slider widget to the plot function\n",
    "widgets.interactive(plot_age_count, year=year_slider)\n"
   ]
  },
  {
   "cell_type": "code",
   "execution_count": null,
   "id": "e2a67bc2",
   "metadata": {},
   "outputs": [],
   "source": [
    "patients.columns"
   ]
  },
  {
   "cell_type": "code",
   "execution_count": null,
   "id": "50d81b56",
   "metadata": {},
   "outputs": [],
   "source": [
    "\n"
   ]
  },
  {
   "cell_type": "code",
   "execution_count": null,
   "id": "4ddfc380",
   "metadata": {},
   "outputs": [],
   "source": [
    "import pandas as pd\n",
    "import plotly.express as px\n",
    "import plotly.graph_objects as go\n",
    "\n",
    "def plot_top_10_diagnoses(year):\n",
    "    # Filter the DataFrame based on the selected year\n",
    "    filtered_data = patients[patients['year'] == year]\n",
    "\n",
    "    # Create a list of all snomed diagnoses for the selected year\n",
    "    diagnosesRep = []\n",
    "    for dSet in filtered_data['patientsnomedproblemcodedesc']:\n",
    "        if type(dSet) == set:\n",
    "            for diagnosis in dSet:\n",
    "                diagnosesRep.append(diagnosis)\n",
    "    \n",
    "    # Create a set to get a list of unique diagnoses with no duplicates\n",
    "    diagnoses = set(diagnosesRep)\n",
    "    \n",
    "    # Create a dictionary between the snomed code and the diagnosis\n",
    "    diagnoses_dict = {}\n",
    "    for diag in diagnoses:\n",
    "        diagnoses_dict[diag.split(': ')[1]] = diag.split(':')[0]\n",
    "    \n",
    "    # Create a dictionary between each diagnosis and the number of patients that have the diagnosis\n",
    "    diagnoses_counts = {}\n",
    "    for diag in diagnoses:\n",
    "        diagnoses_counts[diag] = 0\n",
    "    for diag in diagnoses:\n",
    "        for patient_diag in filtered_data['patientsnomedproblemcodedesc']:\n",
    "            if type(patient_diag) == set and diag in patient_diag:\n",
    "                diagnoses_counts[diag] += 1\n",
    "\n",
    "    # Sort the dictionary from most to least frequent diagnosis\n",
    "    def value_getter(item):\n",
    "        return item[1]\n",
    "            \n",
    "    popular_diag = sorted(diagnoses_counts.items(), key=value_getter, reverse=True)[:10]\n",
    "\n",
    "    # Create data for the histogram\n",
    "    data = pd.DataFrame({'Diagnosis': [diag.split(': ')[1] for diag, count in popular_diag],\n",
    "                         'Number of Patients': [count for diag, count in popular_diag]})\n",
    "\n",
    "    # Create an interactive histogram\n",
    "    fig = px.bar(data, x='Diagnosis', y='Number of Patients',\n",
    "                 labels={'Diagnosis': 'Diagnosis', 'Number of Patients': 'Number of Patients'},\n",
    "                 title=f'Top 10 Diagnoses for Year {year}')\n",
    "    \n",
    "    # Add age range annotations to the plot\n",
    "    age_ranges = [(0, 17), (18, 25), (26, 35), (36, 50), (51, 70), (71, float('inf'))]\n",
    "    for i, age_range in enumerate(age_ranges):\n",
    "        fig.add_shape(type=\"rect\",\n",
    "                      xref=\"x\", yref=\"paper\",\n",
    "                      x0=i-0.5, x1=i+0.5,\n",
    "                      y0=0, y1=1,\n",
    "                      fillcolor=\"LightSalmon\",\n",
    "                      opacity=0.2,\n",
    "                      layer=\"below\"\n",
    "                      )\n",
    "        fig.add_annotation(text=str(age_range),\n",
    "                           x=i, y=1.02,\n",
    "                           showarrow=False,\n",
    "                           font=dict(size=10),\n",
    "                           xanchor='center', yanchor='bottom')\n",
    "    \n",
    "    fig.update_layout(yaxis=dict(title='Number of Patients'),\n",
    "                      xaxis=dict(title='Diagnosis'),\n",
    "                      bargap=0.2)\n",
    "    fig.show()\n",
    "\n",
    "# Create a slider widget to select the year\n",
    "year_slider = widgets.IntSlider(min=patients['year'].min(), max=patients['year'].max(),\n",
    "                                step=1, value=patients['year'].min(),\n",
    "                                description='Year')\n",
    "\n",
    "# Link the slider to the plot function\n",
    "widgets.interactive(plot_top_10_diagnoses, year=year_slider)\n"
   ]
  },
  {
   "cell_type": "code",
   "execution_count": null,
   "id": "88e0abaf",
   "metadata": {},
   "outputs": [],
   "source": []
  },
  {
   "cell_type": "code",
   "execution_count": null,
   "id": "9ba32ada",
   "metadata": {},
   "outputs": [],
   "source": []
  },
  {
   "cell_type": "code",
   "execution_count": null,
   "id": "8d51bf70",
   "metadata": {},
   "outputs": [],
   "source": []
  }
 ],
 "metadata": {
  "kernelspec": {
   "display_name": "Python 3 (ipykernel)",
   "language": "python",
   "name": "python3"
  },
  "language_info": {
   "codemirror_mode": {
    "name": "ipython",
    "version": 3
   },
   "file_extension": ".py",
   "mimetype": "text/x-python",
   "name": "python",
   "nbconvert_exporter": "python",
   "pygments_lexer": "ipython3",
   "version": "3.9.13"
  }
 },
 "nbformat": 4,
 "nbformat_minor": 5
}
