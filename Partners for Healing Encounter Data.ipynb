{
 "cells": [
  {
   "cell_type": "markdown",
   "id": "7ede51c5",
   "metadata": {},
   "source": [
    "## Setup"
   ]
  },
  {
   "cell_type": "markdown",
   "id": "c9cf708b",
   "metadata": {},
   "source": [
    "### Imports"
   ]
  },
  {
   "cell_type": "code",
   "execution_count": null,
   "id": "f889a138",
   "metadata": {},
   "outputs": [],
   "source": [
    "import pandas as pd\n",
    "import numpy as np\n",
    "import matplotlib.pyplot as plt\n",
    "import seaborn as sns"
   ]
  },
  {
   "cell_type": "markdown",
   "id": "4dbfffc4",
   "metadata": {},
   "source": [
    "### Reading the Data"
   ]
  },
  {
   "cell_type": "code",
   "execution_count": null,
   "id": "9e638bb9",
   "metadata": {},
   "outputs": [],
   "source": [
    "enc = pd.read_csv('encounter_data.csv', low_memory = False)\n",
    "enc.head()"
   ]
  },
  {
   "cell_type": "markdown",
   "id": "a3946b4e",
   "metadata": {},
   "source": [
    "## Data Cleaning"
   ]
  },
  {
   "cell_type": "markdown",
   "id": "7dcf90ea",
   "metadata": {},
   "source": [
    "### Changing the column keys to be the column names"
   ]
  },
  {
   "cell_type": "code",
   "execution_count": null,
   "id": "3b7e75d8",
   "metadata": {},
   "outputs": [],
   "source": [
    "enc.rename(columns = enc.loc[0], inplace = True)\n",
    "enc.drop(0, axis = 0, inplace = True)"
   ]
  },
  {
   "cell_type": "code",
   "execution_count": null,
   "id": "d846d6ee",
   "metadata": {},
   "outputs": [],
   "source": [
    "enc.info()"
   ]
  },
  {
   "cell_type": "code",
   "execution_count": null,
   "id": "5eeb34ea",
   "metadata": {},
   "outputs": [],
   "source": [
    "enc.columns"
   ]
  },
  {
   "cell_type": "markdown",
   "id": "bfd619f6",
   "metadata": {},
   "source": [
    "### Editing the icd9 column"
   ]
  },
  {
   "cell_type": "code",
   "execution_count": null,
   "id": "674f4ed5",
   "metadata": {},
   "outputs": [],
   "source": [
    "# changing the dashes in the icd9 column to be nan values for consistency\n",
    "enc['icd9encounterdiagdescr'] = enc['icd9encounterdiagdescr'].replace('-', np.nan)\n",
    "enc.head()"
   ]
  },
  {
   "cell_type": "markdown",
   "id": "5914224c",
   "metadata": {},
   "source": [
    "### Fixing merge issue\n",
    "\n",
    "Merge issue: there are multiple rows for each patient encounter based on the number of diagnoses the particular patient has. This was found due to there being a large amount of rows for particular patients."
   ]
  },
  {
   "cell_type": "code",
   "execution_count": null,
   "id": "24bf5951",
   "metadata": {},
   "outputs": [],
   "source": [
    "# condensing diagnosis rows to a list of diagnoses for each encounter\n",
    "enc_icd10 = enc[enc['icd10encounterdiagdescr'].notnull()].groupby(['patientid','cln enc date'])['icd10encounterdiagdescr'].apply(set).reset_index()\n",
    "enc_icd9 = enc[enc['icd9encounterdiagdescr'].notnull()].groupby(['patientid','cln enc date'])['icd9encounterdiagdescr'].apply(set).reset_index()\n",
    "enc_codedesc = enc[enc['patientsnomedproblemcodedesc'].notnull()].groupby(['patientid','cln enc date'])['patientsnomedproblemcodedesc'].apply(set).reset_index()\n",
    "enc_diag = enc[enc['enc srv diag'].notnull()].groupby(['patientid','cln enc date'])['enc srv diag'].apply(set).reset_index()\n",
    "\n",
    "# removing duplicate to make sure there is only one row per patient encounter\n",
    "enc1 = enc.drop_duplicates(['patientid', 'cln enc date']).reset_index()\n",
    "\n",
    "# dropping diagnosis columns from dataset without duplicates\n",
    "enc1.drop('icd10encounterdiagdescr', axis = 1, inplace = True)\n",
    "enc1.drop('icd9encounterdiagdescr', axis = 1, inplace = True)\n",
    "enc1.drop('patientsnomedproblemcodedesc', axis = 1, inplace = True)\n",
    "enc1.drop('enc srv diag', axis = 1, inplace = True)\n",
    "\n",
    "# merging condensed diagnosis columns\n",
    "cond = pd.merge(enc1, enc_icd10, on = ['patientid', 'cln enc date'], how = 'left')\n",
    "cond = pd.merge(cond, enc_icd9, on = ['patientid', 'cln enc date'], how = 'left')\n",
    "cond = pd.merge(cond, enc_codedesc, on = ['patientid', 'cln enc date'], how = 'left')\n",
    "cond = pd.merge(cond, enc_diag, on = ['patientid', 'cln enc date'], how = 'left')"
   ]
  },
  {
   "cell_type": "code",
   "execution_count": null,
   "id": "5e7aa8bc",
   "metadata": {},
   "outputs": [],
   "source": [
    "# making sure no data was lost by checking the shape of both datasets.\n",
    "# they should have the same number of rows and cond should have an additional 4 diagnoses columns\n",
    "\n",
    "print(enc1.shape)\n",
    "print(cond.shape)"
   ]
  },
  {
   "cell_type": "markdown",
   "id": "2795d931",
   "metadata": {},
   "source": [
    "### Fixing mixed datatypes"
   ]
  },
  {
   "cell_type": "code",
   "execution_count": null,
   "id": "7cd927f1",
   "metadata": {},
   "outputs": [],
   "source": [
    "cond.info()"
   ]
  },
  {
   "cell_type": "code",
   "execution_count": null,
   "id": "58202ec0",
   "metadata": {},
   "outputs": [],
   "source": [
    "cond.head()"
   ]
  },
  {
   "cell_type": "code",
   "execution_count": null,
   "id": "2ac1d3cd",
   "metadata": {},
   "outputs": [],
   "source": [
    "# checking to see which columns have mixed datatypes\n",
    "\n",
    "from pandas.api.types import infer_dtype\n",
    "\n",
    "columns = cond.columns\n",
    "for col in columns:\n",
    "    print(col + ' - ' + infer_dtype(cond[col]))"
   ]
  },
  {
   "cell_type": "code",
   "execution_count": null,
   "id": "e707ae36",
   "metadata": {},
   "outputs": [],
   "source": [
    "# making the patientid and zip code columns all strings\n",
    "\n",
    "cond['patientid'] = [str(x) for x in cond['patientid']]\n",
    "cond['patient zip'] = [str(x) for x in cond['patient zip']]"
   ]
  },
  {
   "cell_type": "code",
   "execution_count": null,
   "id": "2c94f8f7",
   "metadata": {},
   "outputs": [],
   "source": [
    "# replace incorrect zip code entry\n",
    "cond['patient zip'] = cond['patient zip'].replace(['2472'], '37184')\n",
    "cond['patient zip'] = cond['patient zip'].replace('37355-1424', '37355')\n",
    "\n",
    "# replace incorrect city entry\n",
    "cond['patient city'] = cond['patient city'].replace(['TULLAHOMATULLAHOMA'], 'TULLAHOMA')\n",
    "\n",
    "# replace incorrect city and zip for patient\n",
    "cond.loc[cond['patientid'] == '2421', 'patient city'] = 'Winchester'\n",
    "cond.loc[cond['patientid'] == '2421', 'patient zip'] = '37398'"
   ]
  },
  {
   "cell_type": "code",
   "execution_count": null,
   "id": "9c3bbec7",
   "metadata": {},
   "outputs": [],
   "source": [
    "# changing the nan values in the patient federal poverty level to be the average federal poverty level\n",
    "\n",
    "# first making sure that all non-null values are numerical\n",
    "cond['ptnt  fpl'] = [float(x) for x in cond['ptnt  fpl']]\n",
    "\n",
    "# finding the mean of the federal poverty levels\n",
    "mean_fpl = cond['ptnt  fpl'].mean()\n",
    "\n",
    "# filling all null values with the mean\n",
    "cond['ptnt  fpl'] = cond['ptnt  fpl'].fillna(mean_fpl)"
   ]
  },
  {
   "cell_type": "code",
   "execution_count": null,
   "id": "880c46a8",
   "metadata": {},
   "outputs": [],
   "source": [
    "# changing null values for the patient registration date, patient reason for inactive status,\n",
    "#    race, ethnicity, patient lang and outgoing referral columns to be unknown\n",
    "\n",
    "cond['patientregd'] = cond['patientregd'].fillna('unknown')\n",
    "cond['ptnt rsn fr nctv stts'] = cond['ptnt rsn fr nctv stts'].fillna('unspecified')\n",
    "cond['race'] = cond['race'].fillna('unspecified')\n",
    "cond['ethnicity'] = cond['ethnicity'].fillna('unspecified')\n",
    "cond['patient lang'] = cond['patient lang'].fillna('unspecified')\n",
    "\n",
    "# if a value is null in the patient deceased column then they are still alive ??\n",
    "cond['ptnt dcsd ysn'] = cond['ptnt dcsd ysn'].fillna('still alive')\n",
    "\n",
    "# if a value is null in the outgoing referral column the patient has not gotten a referral ??\n",
    "cond['auth refto prvdr'] = cond['auth refto prvdr'].fillna('no referral')"
   ]
  },
  {
   "cell_type": "code",
   "execution_count": null,
   "id": "4d6ee3e6",
   "metadata": {},
   "outputs": [],
   "source": [
    "# filling in null patient county of residence values based on patient city\n",
    "\n",
    "# all patients with null counties live in Watertown which is in Wilson county\n",
    "cond[cond['ptnt cnty f rsdnc'].isnull()]['patient city'].value_counts()\n",
    "\n",
    "# filling all null counties with Wilson county\n",
    "cond['ptnt cnty f rsdnc'] = cond['ptnt cnty f rsdnc'].fillna('Wilson')"
   ]
  },
  {
   "cell_type": "code",
   "execution_count": null,
   "id": "a235e700",
   "metadata": {},
   "outputs": [],
   "source": [
    "cond.info()"
   ]
  },
  {
   "cell_type": "code",
   "execution_count": null,
   "id": "a9e87cf2",
   "metadata": {},
   "outputs": [],
   "source": [
    "# fixing null values for the diagnosis columns (icd9, problem description, srv diagnosis)\n",
    "\n",
    "# NOTE: will do this once we talk to Emilie"
   ]
  },
  {
   "cell_type": "markdown",
   "id": "2b5604d1",
   "metadata": {},
   "source": [
    "### Adding columns"
   ]
  },
  {
   "cell_type": "code",
   "execution_count": null,
   "id": "b2516d62",
   "metadata": {},
   "outputs": [],
   "source": [
    "# CREATING THE AGE COL\n",
    "## description: a column that represents the patients age at the time of the clinic encounter\n",
    "\n",
    "from datetime import datetime\n",
    "\n",
    "# Format according to datetime module\n",
    "dob = pd.to_datetime(cond['patientdob'], format='%m/%d/%Y')\n",
    "encdate = pd.to_datetime(cond['cln enc date'], format='%m/%d/%Y')\n",
    "\n",
    "# Calculate the age in days\n",
    "age_days = (encdate - dob).dt.days\n",
    "\n",
    "# Convert age from days to years\n",
    "age_years = age_days // 365.25\n",
    "\n",
    "# Create the new column and make the ages ints\n",
    "cond['age'] = [int(x) for x in age_years]"
   ]
  },
  {
   "cell_type": "code",
   "execution_count": null,
   "id": "abe3e966",
   "metadata": {},
   "outputs": [],
   "source": [
    "# CREATING THE YEAR COL\n",
    "## description: a column that shows what year the patient encounter took place\n",
    "\n",
    "# function that returns the year from a date format of 'mm/dd/year'\n",
    "def dayToYear(day):\n",
    "    return day.split('/')[-1]\n",
    "\n",
    "# creating the new column\n",
    "cond['enc year'] = [dayToYear(day) for day in cond['cln enc date']]"
   ]
  },
  {
   "cell_type": "code",
   "execution_count": null,
   "id": "6d5cdf71",
   "metadata": {},
   "outputs": [],
   "source": [
    "# CREATING THE DISTANCE COL\n",
    "## description: a column that represents the distance between patients and the clinic (calculated by zip code)\n",
    "\n",
    "import pgeocode\n",
    "\n",
    "# function that gets the distance between two zip codes using the pgeocode package\n",
    "def get_distance(x, y):\n",
    "    usa_zipcodes = pgeocode.GeoDistance('us')\n",
    "    distance_in_kms = usa_zipcodes.query_postal_code(x, y.values)\n",
    "    return distance_in_kms\n",
    "\n",
    "# creating the new column\n",
    "cond['distance'] = get_distance('37388', cond['patient zip'])"
   ]
  },
  {
   "cell_type": "markdown",
   "id": "04ac0c9f",
   "metadata": {},
   "source": [
    "## Visualizations"
   ]
  },
  {
   "cell_type": "markdown",
   "id": "7607b337",
   "metadata": {},
   "source": [
    "###                           Heatmap of patients of the clinic\n"
   ]
  },
  {
   "cell_type": "code",
   "execution_count": null,
   "id": "5ee73e60",
   "metadata": {},
   "outputs": [],
   "source": [
    "# making a seperate datframe out of the encounter data and only selecting columns needed for the map. Heat map is only-\n",
    "# - checking usage so only really need patient id\n",
    "\n",
    "test = cond[['patientid','patientsex','patient zip']]\n",
    "\n",
    "test.head()"
   ]
  },
  {
   "cell_type": "code",
   "execution_count": null,
   "id": "1879f66f",
   "metadata": {},
   "outputs": [],
   "source": [
    "# Importing geopandas to create a heatmap and reading .shp file of US zipcodes\n",
    "\n",
    "import geopandas as gpd\n",
    "\n",
    "tn_map= gpd.read_file(\"tl_2022_us_zcta520.shp\")\n",
    "\n",
    "### rename column to patient zip so that it can merge with the other df of patient id's\n",
    "\n",
    "tn_map.rename(columns={\"ZCTA5CE20\":\"patient zip\"}, inplace=True)\n",
    "\n",
    "tn_map.head()"
   ]
  },
  {
   "cell_type": "code",
   "execution_count": null,
   "id": "c6825a71",
   "metadata": {},
   "outputs": [],
   "source": [
    "### Checking to see if zip codes match the county zipcodes we are analyzing\n",
    "\n",
    "tn_map[tn_map['patient zip']=='37388']"
   ]
  },
  {
   "cell_type": "code",
   "execution_count": null,
   "id": "8b990e09",
   "metadata": {},
   "outputs": [],
   "source": [
    "# removing rows that arent TN specific\n",
    "## Looking at unique zipcodes of patients so that the big df of US Zipcodes can be specified and become smaller\n",
    "\n",
    "cond[\"patient zip\"].unique()\n",
    "\n",
    "## Assign the unique zipcodes to \"specific_values\" and use it to filter the large df of US zipcodes\n",
    "\n",
    "specific_values = ['37388', '37355', '37020', '37360', '37398', '37318', '37018',\n",
    "       '37366', '37324', '37342', '37183', '37330', '37345', '37352',\n",
    "       '37376', '37160', '37306', '37334', '37184', '37339',\n",
    "       '37382', '37110', '37359', '37357', '37356', '37301', '37348',\n",
    "       '37349', '37375', '37313', '37149']\n",
    "\n",
    "\n",
    "filtered_data = tn_map[tn_map['patient zip'].isin(specific_values)]\n",
    "\n",
    "filtered_data.head()"
   ]
  },
  {
   "cell_type": "code",
   "execution_count": null,
   "id": "6b1fe5dd",
   "metadata": {},
   "outputs": [],
   "source": [
    "##Merging columns for zipcodes \n",
    "\n",
    "map_and_stats=filtered_data.merge(test, on=\"patient zip\")"
   ]
  },
  {
   "cell_type": "code",
   "execution_count": null,
   "id": "2708e67e",
   "metadata": {},
   "outputs": [],
   "source": [
    "# Plotting heatmap\n",
    "\n",
    "fig, ax = plt.subplots(1, figsize=(10, 10))\n",
    "plt.xticks(rotation=90)\n",
    "\n",
    "# Specify what column to look at\n",
    "\n",
    "map_and_stats.plot(column=\"patientid\", cmap=\"Reds\", linewidth=0.4, ax=ax, edgecolor=\".4\")\n",
    "\n",
    "## add bar graphs to the side of map\n",
    "\n",
    "bar_info = plt.cm.ScalarMappable(cmap=\"Reds\", norm=plt.Normalize(vmin=0, vmax=8000))\n",
    "bar_info._A = []\n",
    "cbar = fig.colorbar(bar_info)"
   ]
  },
  {
   "cell_type": "markdown",
   "id": "ee232988",
   "metadata": {},
   "source": [
    "# ----------------------------------------------------------------------------------------------"
   ]
  },
  {
   "cell_type": "code",
   "execution_count": null,
   "id": "9879a921",
   "metadata": {},
   "outputs": [],
   "source": [
    "### trying plotly\n",
    "import plotly.express as px"
   ]
  },
  {
   "cell_type": "code",
   "execution_count": null,
   "id": "ac4eecc2",
   "metadata": {},
   "outputs": [],
   "source": [
    "with urlopen('https://raw.githubusercontent.com/OpenDataDE/State-zip-code-GeoJSON/master/tn_tennessee_zip_codes_geo.min.json'):\n",
    "    zipcodes= json.load(response)"
   ]
  },
  {
   "cell_type": "code",
   "execution_count": null,
   "id": "bdbfc396",
   "metadata": {},
   "outputs": [],
   "source": []
  },
  {
   "cell_type": "code",
   "execution_count": null,
   "id": "1c199ce0",
   "metadata": {},
   "outputs": [],
   "source": [
    "# test"
   ]
  }
 ],
 "metadata": {
  "kernelspec": {
   "display_name": "Python 3 (ipykernel)",
   "language": "python",
   "name": "python3"
  },
  "language_info": {
   "codemirror_mode": {
    "name": "ipython",
    "version": 3
   },
   "file_extension": ".py",
   "mimetype": "text/x-python",
   "name": "python",
   "nbconvert_exporter": "python",
   "pygments_lexer": "ipython3",
   "version": "3.9.13"
  }
 },
 "nbformat": 4,
 "nbformat_minor": 5
}
