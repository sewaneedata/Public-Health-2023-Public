{
 "cells": [
  {
   "cell_type": "markdown",
   "id": "c27d23c3",
   "metadata": {},
   "source": [
    "# Partners for Healing Referrals"
   ]
  },
  {
   "cell_type": "code",
   "execution_count": null,
   "id": "0d3ae74b",
   "metadata": {},
   "outputs": [],
   "source": [
    "import pandas as pd\n",
    "import numpy as np\n",
    "import matplotlib.pyplot as plt\n",
    "import plotly.express as px\n",
    "import plotly.graph_objs as go\n",
    "from plotly.offline import init_notebook_mode, iplot\n",
    "\n",
    "init_notebook_mode(connected=True)"
   ]
  },
  {
   "cell_type": "markdown",
   "id": "53ce161a",
   "metadata": {},
   "source": [
    "## Importing and Cleaning Dataframe"
   ]
  },
  {
   "cell_type": "code",
   "execution_count": null,
   "id": "0a4ad3c7",
   "metadata": {},
   "outputs": [],
   "source": [
    "#importing the dataframe\n",
    "re = pd.read_csv('referrals.csv')"
   ]
  },
  {
   "cell_type": "code",
   "execution_count": null,
   "id": "e71bd8d1",
   "metadata": {},
   "outputs": [],
   "source": [
    "#renaming the columns\n",
    "re.rename(columns = re.loc[0], inplace=True)\n",
    "re.drop(0, axis = 0, inplace=True)"
   ]
  },
  {
   "cell_type": "markdown",
   "id": "ef020770",
   "metadata": {},
   "source": [
    "## Referral Count Plot"
   ]
  },
  {
   "cell_type": "code",
   "execution_count": null,
   "id": "16503548",
   "metadata": {},
   "outputs": [],
   "source": [
    "#sort the re 'order type grp' column\n",
    "sorted_re = re['order type grp'].value_counts().sort_values(ascending=False)\n",
    "\n",
    "#create the figure\n",
    "fig = px.histogram(re, y='order type grp', color='order type grp', color_discrete_sequence=px.colors.sequential.Viridis, category_orders={'order type grp': sorted_re.index})\n",
    "\n",
    "#edit the hovertemplate\n",
    "fig.update_traces(hovertemplate='Referral Type: %{y}<br>Reference Count: %{x}<extra></extra>')\n",
    "\n",
    "#change x axis range\n",
    "x_range = [0, 14000]\n",
    "fig.update_xaxes(range=x_range)\n",
    "\n",
    "#edit labels\n",
    "fig.update_layout(\n",
    "    yaxis_title='Type of Referral',\n",
    "    xaxis_title='Referral Count',\n",
    "    title='Partners for Healing Referral Count'\n",
    ")\n",
    "\n",
    "#plot\n",
    "fig.show()\n"
   ]
  },
  {
   "cell_type": "code",
   "execution_count": null,
   "id": "03193be7",
   "metadata": {},
   "outputs": [],
   "source": []
  },
  {
   "cell_type": "code",
   "execution_count": null,
   "id": "8b656e81",
   "metadata": {},
   "outputs": [],
   "source": []
  }
 ],
 "metadata": {
  "kernelspec": {
   "display_name": "Python 3 (ipykernel)",
   "language": "python",
   "name": "python3"
  },
  "language_info": {
   "codemirror_mode": {
    "name": "ipython",
    "version": 3
   },
   "file_extension": ".py",
   "mimetype": "text/x-python",
   "name": "python",
   "nbconvert_exporter": "python",
   "pygments_lexer": "ipython3",
   "version": "3.9.13"
  }
 },
 "nbformat": 4,
 "nbformat_minor": 5
}
