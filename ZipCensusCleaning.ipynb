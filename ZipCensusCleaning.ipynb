{
 "cells": [
  {
   "cell_type": "markdown",
   "id": "e554b284",
   "metadata": {},
   "source": [
    "# Zip Code Census Data"
   ]
  },
  {
   "cell_type": "markdown",
   "id": "70fa35e5",
   "metadata": {},
   "source": [
    "## Importing"
   ]
  },
  {
   "cell_type": "code",
   "execution_count": null,
   "id": "dbdb1a2b",
   "metadata": {},
   "outputs": [],
   "source": [
    "import pandas as pd"
   ]
  },
  {
   "cell_type": "code",
   "execution_count": null,
   "id": "29dad98d",
   "metadata": {},
   "outputs": [],
   "source": [
    "big = pd.read_csv('ACSST5Y2020.S2701-Data.csv')"
   ]
  },
  {
   "cell_type": "markdown",
   "id": "472721fe",
   "metadata": {},
   "source": [
    "## Cleaning Census Data"
   ]
  },
  {
   "cell_type": "code",
   "execution_count": null,
   "id": "b8cf111c",
   "metadata": {},
   "outputs": [],
   "source": [
    "#Change the column names to the first row of data\n",
    "big.rename(columns = big.loc[0], inplace=True)\n",
    "big.drop(0, axis = 0, inplace=True)"
   ]
  },
  {
   "cell_type": "code",
   "execution_count": null,
   "id": "4ce0a668",
   "metadata": {},
   "outputs": [],
   "source": [
    "#Changing the zip code values to only include the zip code and not 'ZCTA5'\n",
    "big['Geographic Area Name'] = big['Geographic Area Name'].str.replace('ZCTA5 ', '')"
   ]
  },
  {
   "cell_type": "code",
   "execution_count": null,
   "id": "953b7c4b",
   "metadata": {},
   "outputs": [],
   "source": [
    "#Creating a smaller dataframe that only includes total population, insured population, and uninsured population\n",
    "small = big[['Geographic Area Name','Estimate!!Total!!Civilian noninstitutionalized population','Estimate!!Insured!!Civilian noninstitutionalized population','Estimate!!Uninsured!!Civilian noninstitutionalized population']]"
   ]
  },
  {
   "cell_type": "code",
   "execution_count": null,
   "id": "ed9cfef6",
   "metadata": {},
   "outputs": [],
   "source": [
    "#Renaming the new dataframe's columns\n",
    "small.columns = ['zip code','population','insured','uninsured']"
   ]
  },
  {
   "cell_type": "code",
   "execution_count": null,
   "id": "1aaf8809",
   "metadata": {},
   "outputs": [],
   "source": [
    "#Changing the columns to numeric types\n",
    "small['population'] = pd.to_numeric(small['population'])\n",
    "small['insured'] = pd.to_numeric(small['insured'])\n",
    "small['uninsured'] = pd.to_numeric(small['uninsured'])"
   ]
  },
  {
   "cell_type": "code",
   "execution_count": null,
   "id": "df8b3b14",
   "metadata": {},
   "outputs": [],
   "source": [
    "#Creating two percentage columns for insured and uninsured\n",
    "small = small.assign(percent_insured=small['insured'] / small['population']*100)\n",
    "small = small.assign(percent_uninsured=small['uninsured'] / small['population']*100)"
   ]
  },
  {
   "cell_type": "code",
   "execution_count": null,
   "id": "95c65285",
   "metadata": {},
   "outputs": [],
   "source": [
    "#Rounding the columns to 2 decimal places\n",
    "small['percent_insured']=small['percent_insured'].round(2)\n",
    "small['percent_uninsured']=small['percent_uninsured'].round(2)"
   ]
  },
  {
   "cell_type": "markdown",
   "id": "39c5fbd2",
   "metadata": {},
   "source": [
    "## Making the heatmap"
   ]
  },
  {
   "cell_type": "markdown",
   "id": "78027e44",
   "metadata": {},
   "source": [
    "### Importing"
   ]
  },
  {
   "cell_type": "code",
   "execution_count": null,
   "id": "4f0cfa13",
   "metadata": {},
   "outputs": [],
   "source": [
    "import geopandas as gdp\n",
    "import matplotlib.pyplot as plt"
   ]
  },
  {
   "cell_type": "markdown",
   "id": "9422e36b",
   "metadata": {},
   "source": [
    "#### Zip Code Shape"
   ]
  },
  {
   "cell_type": "code",
   "execution_count": null,
   "id": "47ce616d",
   "metadata": {},
   "outputs": [],
   "source": [
    "#Create the us zip code shape dataframe\n",
    "us_zip = gdp.read_file('tl_2022_us_zcta520.shp')"
   ]
  },
  {
   "cell_type": "code",
   "execution_count": null,
   "id": "c9d2ac6b",
   "metadata": {},
   "outputs": [],
   "source": [
    "#Creating a tennessee zip code list using the small dataframe\n",
    "zips = small['zip code'].tolist()"
   ]
  },
  {
   "cell_type": "code",
   "execution_count": null,
   "id": "7337af25",
   "metadata": {},
   "outputs": [],
   "source": [
    "#Filtering the shape file to only include tennessee zip codes\n",
    "tn_zip = us_zip[us_zip['ZCTA5CE20'].isin(zips)]"
   ]
  },
  {
   "cell_type": "code",
   "execution_count": null,
   "id": "0df78fd2",
   "metadata": {},
   "outputs": [],
   "source": [
    "#Changing the tennessee zip code column to make it easy to merge\n",
    "tn_zip = tn_zip.rename(columns={'ZCTA5CE20':'zip code'})"
   ]
  },
  {
   "cell_type": "code",
   "execution_count": null,
   "id": "150a1e28",
   "metadata": {},
   "outputs": [],
   "source": [
    "#Merge the shape dataframe to the small small dataframe\n",
    "final = tn_zip.merge(small, on='zip code')"
   ]
  },
  {
   "cell_type": "markdown",
   "id": "b6997b21",
   "metadata": {},
   "source": [
    "#### County Shape"
   ]
  },
  {
   "cell_type": "code",
   "execution_count": null,
   "id": "a539bd9c",
   "metadata": {},
   "outputs": [],
   "source": [
    "#Importing the county shape file\n",
    "us_shape = gdp.read_file('cb_2022_us_county_500k.shp')"
   ]
  },
  {
   "cell_type": "code",
   "execution_count": null,
   "id": "b57cec13",
   "metadata": {},
   "outputs": [],
   "source": [
    "#Filtering the shape file to only include TN\n",
    "tn_shape = us_shape[us_shape['STUSPS']=='TN']"
   ]
  },
  {
   "cell_type": "markdown",
   "id": "38778178",
   "metadata": {},
   "source": [
    "### Entire Tennessee Zip Code Choropleth"
   ]
  },
  {
   "cell_type": "code",
   "execution_count": null,
   "id": "e3dab4a7",
   "metadata": {},
   "outputs": [],
   "source": [
    "#Creating figure\n",
    "fig, ax = plt.subplots(1, figsize=(10,10))\n",
    "plt.xticks(rotation=90)\n",
    "\n",
    "final.plot(column='percent_uninsured', cmap='Reds', linewidth=0.4, ax=ax, edgecolor=\".4\")"
   ]
  },
  {
   "cell_type": "markdown",
   "id": "3aa140d6",
   "metadata": {},
   "source": [
    "### Creating a Choropleth overlay"
   ]
  },
  {
   "cell_type": "code",
   "execution_count": null,
   "id": "61f85632",
   "metadata": {},
   "outputs": [],
   "source": [
    "#Create figure\n",
    "fig, ax = plt.subplots(figsize=(10, 10))\n",
    "\n",
    "#Plot choropleth\n",
    "final.plot(column='population', cmap='Reds', linewidth=0.8, ax=ax, edgecolor='0.8')\n",
    "\n",
    "#Overlay counties\n",
    "tn_shape.plot(ax=ax, linewidth=1, edgecolor='Black', facecolor='none')\n",
    "\n",
    "#Title and axis\n",
    "ax.set_title('Choropleth Map with Additional Shape Outline')\n",
    "ax.set_axis_off()\n",
    "\n",
    "#Show the plot\n",
    "plt.show()\n"
   ]
  },
  {
   "cell_type": "markdown",
   "id": "8de1f259",
   "metadata": {},
   "source": [
    "### Creating Specific Area Choropleth"
   ]
  },
  {
   "cell_type": "code",
   "execution_count": null,
   "id": "68a15395",
   "metadata": {},
   "outputs": [],
   "source": [
    "#Creating list with specific county cip codes\n",
    "czip =['37018','37342','37355','37360','37388',\n",
    "       '37389','37306','37318','37324','37330',\n",
    "       '37345','37375','37376','37398','37352']"
   ]
  },
  {
   "cell_type": "code",
   "execution_count": null,
   "id": "f831ca76",
   "metadata": {},
   "outputs": [],
   "source": [
    "#Filtering the zip code shape file\n",
    "county = tn_zip[tn_zip['zip code'].isin(czip)]"
   ]
  },
  {
   "cell_type": "code",
   "execution_count": null,
   "id": "ad72f1fa",
   "metadata": {},
   "outputs": [],
   "source": [
    "#Merge the county shape file on the small dataframe\n",
    "cfinal = county.merge(small, on='zip code')"
   ]
  },
  {
   "cell_type": "markdown",
   "id": "061e1ae7",
   "metadata": {},
   "source": [
    "#### Creating smaller zip code choropleth"
   ]
  },
  {
   "cell_type": "code",
   "execution_count": null,
   "id": "63118baa",
   "metadata": {},
   "outputs": [],
   "source": [
    "#Create figure\n",
    "fig = plt.figure(figsize=(10, 10))\n",
    "ax = fig.add_subplot(111)\n",
    "\n",
    "#Choropleth\n",
    "cfinal.plot(column='percent_uninsured', cmap='Reds', linewidth=0.8, ax=ax, edgecolor='0.8')\n",
    "\n",
    "#Title and remove axis\n",
    "ax.set_title('Percent Uninsured by Population')\n",
    "ax.set_axis_off()\n",
    "\n",
    "#Add scale bar\n",
    "bar = plt.cm.ScalarMappable(cmap='Reds', norm=plt.Normalize(vmin=0, vmax='25'))\n",
    "bar._A = []\n",
    "cbar = fig.colorbar(bar, shrink=0.75)\n",
    "\n",
    "#Show the plot\n",
    "plt.show()"
   ]
  },
  {
   "cell_type": "markdown",
   "id": "f1e044ed",
   "metadata": {},
   "source": [
    "### Creating a specific area choropleth with overlay"
   ]
  },
  {
   "cell_type": "code",
   "execution_count": null,
   "id": "74205a70",
   "metadata": {},
   "outputs": [],
   "source": [
    "#Creating a list of the counties that the clinic serves\n",
    "pfh = ['Franklin', 'Coffee', 'Moore']"
   ]
  },
  {
   "cell_type": "code",
   "execution_count": null,
   "id": "635a41a5",
   "metadata": {},
   "outputs": [],
   "source": [
    "#Filtering the county shape file to include these three counties\n",
    "tri = tn_shape[tn_shape['NAME'].isin(pfh)]"
   ]
  },
  {
   "cell_type": "code",
   "execution_count": null,
   "id": "f8a6e46c",
   "metadata": {},
   "outputs": [],
   "source": [
    "#Create a new figure and axis\n",
    "fig, ax = plt.subplots(figsize=(10, 10))\n",
    "\n",
    "#Plot the choropleth map\n",
    "cfinal.plot(column='percent_uninsured', cmap='Reds', linewidth=0.8, ax=ax, edgecolor='0.8')\n",
    "\n",
    "#Background\n",
    "fig.patch.set_facecolor('lightgray')\n",
    "\n",
    "#Overlay additional shape(s) as outline\n",
    "tri.plot(ax=ax, linewidth=1, edgecolor='black', facecolor='none')\n",
    "\n",
    "#Customize the plot\n",
    "ax.set_title('Percent Uninsured by Population')\n",
    "ax.set_axis_off()\n",
    "\n",
    "\n",
    "#Add scale bar\n",
    "bar = plt.cm.ScalarMappable(cmap='Reds', norm=plt.Normalize(vmin=0, vmax='25'))\n",
    "bar._A = []\n",
    "cbar = fig.colorbar(bar)\n",
    "\n",
    "#Show the plot\n",
    "plt.show()\n"
   ]
  },
  {
   "cell_type": "code",
   "execution_count": null,
   "id": "6385e24f",
   "metadata": {},
   "outputs": [],
   "source": [
    "import matplotlib.pyplot as plt\n",
    "\n",
    "#Create a new figure and a grid of subplots with adjusted height ratios\n",
    "fig, axes = plt.subplots(2, 1, figsize=(10, 12), gridspec_kw={'height_ratios': [3, 1]})\n",
    "\n",
    "#Set background\n",
    "fig.patch.set_facecolor('lightgrey')\n",
    "\n",
    "#Plot the choropleth\n",
    "ax_choropleth = axes[0]\n",
    "choropleth = cfinal.plot(column='percent_uninsured', cmap='Reds', linewidth=0.8, ax=ax_choropleth, edgecolor='0.8')\n",
    "ax_choropleth.set_title('Percent Uninsured by Population')\n",
    "ax_choropleth.set_axis_off()\n",
    "\n",
    "#Add scale bar\n",
    "bar = plt.cm.ScalarMappable(cmap='Reds', norm=plt.Normalize(vmin=0, vmax=25))\n",
    "bar._A = []\n",
    "cbar = fig.colorbar(bar, ax=ax_choropleth)\n",
    "\n",
    "#Overlay counties\n",
    "tri.plot(ax=ax_choropleth, linewidth=1, edgecolor='black', facecolor='none')\n",
    "\n",
    "#Get the top 10 zip codes by percentage uninsured\n",
    "ctop_10_zipcodes = cfinal.nlargest(10, 'percent_uninsured')\n",
    "\n",
    "#Get choropleth colors\n",
    "colors = [bar.to_rgba(val) for val in ctop_10_zipcodes['percent_uninsured']]\n",
    "\n",
    "#Plot the bar chart\n",
    "ax_bar = axes[1]\n",
    "ax_bar.bar(ctop_10_zipcodes['zip code'], ctop_10_zipcodes['percent_uninsured'], color=colors)\n",
    "ax_bar.set_title('Top 10 Zip Codes by Percentage Uninsured')\n",
    "ax_bar.set_xlabel('Zip Code')\n",
    "ax_bar.set_ylabel('Percentage')\n",
    "ax_bar\n"
   ]
  },
  {
   "cell_type": "code",
   "execution_count": null,
   "id": "a51d5e6c",
   "metadata": {},
   "outputs": [],
   "source": [
    "import matplotlib.pyplot as plt\n",
    "\n",
    "#Create a new figure and a grid of subplots with adjusted height ratios\n",
    "fig, axes = plt.subplots(2, 1, figsize=(10, 12), gridspec_kw={'height_ratios': [3, 1]})\n",
    "\n",
    "#Set the background color to grey for the entire figure\n",
    "fig.patch.set_facecolor('lightgrey')\n",
    "\n",
    "#Plot the choropleth\n",
    "ax_choropleth = axes[0]\n",
    "choropleth = cfinal.plot(column='percent_insured', cmap='Blues', linewidth=0.8, ax=ax_choropleth, edgecolor='0.8')\n",
    "ax_choropleth.set_title('Percent Insured by Population')\n",
    "ax_choropleth.set_axis_off()\n",
    "\n",
    "#Add scale bar to the choropleth map\n",
    "bar = plt.cm.ScalarMappable(cmap='Blues', norm=plt.Normalize(vmin=0, vmax=100))\n",
    "bar._A = []\n",
    "cbar = fig.colorbar(bar, ax=ax_choropleth)\n",
    "\n",
    "#Overlay counties\n",
    "tri.plot(ax=ax_choropleth, linewidth=1, edgecolor='black', facecolor='none')\n",
    "\n",
    "#Get the top 10 zip codes by percentage uninsured\n",
    "ctop_10_zipcodes = cfinal.nlargest(10, 'percent_insured')\n",
    "\n",
    "#Get choropleth colors\n",
    "colors = [bar.to_rgba(val) for val in ctop_10_zipcodes['percent_insured']]\n",
    "\n",
    "#Plot the bar chart\n",
    "ax_bar = axes[1]\n",
    "ax_bar.bar(ctop_10_zipcodes['zip code'], ctop_10_zipcodes['percent_insured'], color=colors)\n",
    "ax_bar.set_title('Top 10 Zip Codes by Percentage Insured')\n",
    "ax_bar.set_xlabel('Zip Code')\n",
    "ax_bar.set_ylabel('Percentage')\n",
    "ax_bar\n"
   ]
  },
  {
   "cell_type": "markdown",
   "id": "f03feb0d",
   "metadata": {},
   "source": [
    "### Creating an adjacent county choropleth with overlay"
   ]
  },
  {
   "cell_type": "code",
   "execution_count": null,
   "id": "067da745",
   "metadata": {},
   "outputs": [],
   "source": [
    "#Creating zip code list of adjacent counties\n",
    "aa = ['37018','37342','37355','37360','37388','37389','37306','37318',\n",
    "      '37324','37330','37345','37375','37376','37398','37352','37301',\n",
    "      '37305','37313','37339','37356','37365','37366','37387','37110',\n",
    "      '37357','38581','37020','37160','37180','37183','37016','37026',\n",
    "      '37149','37190']"
   ]
  },
  {
   "cell_type": "code",
   "execution_count": null,
   "id": "18a3fc0e",
   "metadata": {},
   "outputs": [],
   "source": [
    "#Creating a shape file for adjacent county zip codes\n",
    "adjcounty = tn_zip[tn_zip['zip code'].isin(aa)]"
   ]
  },
  {
   "cell_type": "code",
   "execution_count": null,
   "id": "819f132d",
   "metadata": {},
   "outputs": [],
   "source": [
    "#Merging the adjcounty shape file with the census data\n",
    "adjfinal = adjcounty.merge(small, on='zip code')"
   ]
  },
  {
   "cell_type": "code",
   "execution_count": null,
   "id": "7cab8d9c",
   "metadata": {},
   "outputs": [],
   "source": [
    "#Creating list of adjacent counties\n",
    "apfh = ['Franklin', 'Coffee', 'Moore', 'Warren', 'Grundy', 'Cannon', 'Bedford']"
   ]
  },
  {
   "cell_type": "code",
   "execution_count": null,
   "id": "d347e26a",
   "metadata": {},
   "outputs": [],
   "source": [
    "#Creating adj county shape file\n",
    "adj = tn_shape[tn_shape['NAME'].isin(apfh)]"
   ]
  },
  {
   "cell_type": "code",
   "execution_count": null,
   "id": "f8229b5f",
   "metadata": {},
   "outputs": [],
   "source": [
    "#Create a new figure and axis\n",
    "fig, ax = plt.subplots(figsize=(10, 10))\n",
    "\n",
    "#Plot choropleth\n",
    "adjfinal.plot(column='percent_uninsured', cmap='Reds', linewidth=0.8, ax=ax, edgecolor='0.8')\n",
    "\n",
    "#background\n",
    "fig.patch.set_facecolor('lightgray')\n",
    "\n",
    "#Overlay counties\n",
    "adj.plot(ax=ax, linewidth=1, edgecolor='black', facecolor='none')\n",
    "\n",
    "#Customize the plot\n",
    "ax.set_title('Percent Uninsured by Population')\n",
    "ax.set_axis_off()\n",
    "\n",
    "\n",
    "#Add scale bar\n",
    "bar = plt.cm.ScalarMappable(cmap='Reds', norm=plt.Normalize(vmin=0, vmax='25'))\n",
    "bar._A = []\n",
    "cbar = fig.colorbar(bar)\n",
    "\n",
    "#Show the plot\n",
    "plt.show()\n"
   ]
  },
  {
   "cell_type": "code",
   "execution_count": null,
   "id": "27981734",
   "metadata": {},
   "outputs": [],
   "source": [
    "#Create a new figure and a grid of subplots with adjusted height ratios\n",
    "fig, axes = plt.subplots(2, 1, figsize=(10, 12), gridspec_kw={'height_ratios': [3, 1]})\n",
    "\n",
    "#Set background\n",
    "fig.patch.set_facecolor('lightgrey')\n",
    "\n",
    "#Plot the choropleth\n",
    "ax_choropleth = axes[0]\n",
    "choropleth = adjfinal.plot(column='percent_uninsured', cmap='Reds', linewidth=0.8, ax=ax_choropleth, edgecolor='0.8')\n",
    "ax_choropleth.set_title('Percent Uninsured by Population')\n",
    "ax_choropleth.set_axis_off()\n",
    "\n",
    "#Add scale bar\n",
    "bar = plt.cm.ScalarMappable(cmap='Reds', norm=plt.Normalize(vmin=0, vmax=25))\n",
    "bar._A = []\n",
    "cbar = fig.colorbar(bar, ax=ax_choropleth)\n",
    "\n",
    "#Overlay counties\n",
    "adj.plot(ax=ax_choropleth, linewidth=1, edgecolor='black', facecolor='none')\n",
    "\n",
    "#Get the top 10 zip codes by percentage uninsured\n",
    "top_10_zipcodes = adjfinal.nlargest(10, 'percent_uninsured')\n",
    "\n",
    "#Get choropleth colors\n",
    "colors = [bar.to_rgba(val) for val in top_10_zipcodes['percent_uninsured']]\n",
    "\n",
    "#Plot the bar chart\n",
    "ax_bar = axes[1]\n",
    "ax_bar.bar(top_10_zipcodes['zip code'], top_10_zipcodes['percent_uninsured'], color=colors)\n",
    "ax_bar.set_title('Top 10 Zip Codes by Percentage Uninsured')\n",
    "ax_bar.set_xlabel('Zip Code')\n",
    "ax_bar.set_ylabel('Percentage')\n",
    "ax_bar\n"
   ]
  },
  {
   "cell_type": "code",
   "execution_count": null,
   "id": "2be97c87",
   "metadata": {},
   "outputs": [],
   "source": [
    "#Create a new figure and a grid of subplots with adjusted height ratios\n",
    "fig, axes = plt.subplots(2, 1, figsize=(10, 12), gridspec_kw={'height_ratios': [3, 1]})\n",
    "\n",
    "#Set background\n",
    "fig.patch.set_facecolor('lightgrey')\n",
    "\n",
    "#Plot the choropleth\n",
    "ax_choropleth = axes[0]\n",
    "choropleth = adjfinal.plot(column='percent_uninsured', cmap='Reds', linewidth=0.8, ax=ax_choropleth, edgecolor='0.8')\n",
    "ax_choropleth.set_title('Percent Uninsured by Population')\n",
    "ax_choropleth.set_axis_off()\n",
    "\n",
    "#Add scale bar to the choropleth map\n",
    "bar = plt.cm.ScalarMappable(cmap='Reds', norm=plt.Normalize(vmin=0, vmax=25))\n",
    "bar._A = []\n",
    "cbar = fig.colorbar(bar, ax=ax_choropleth)\n",
    "\n",
    "#Overlay counties\n",
    "adj.plot(ax=ax_choropleth, linewidth=1, edgecolor='black', facecolor='none')\n",
    "\n",
    "#Get the top 10 zip codes by percentage uninsured\n",
    "top_10_zipcodes = adjfinal.nlargest(10, 'percent_uninsured')\n",
    "\n",
    "#Get choropleth colors\n",
    "colors = [bar.to_rgba(val) for val in top_10_zipcodes['percent_uninsured']]\n",
    "\n",
    "#Plot the bar chart\n",
    "ax_bar = axes[1]\n",
    "ax_bar.bar(top_10_zipcodes['zip code'], top_10_zipcodes['percent_uninsured'], color=colors)\n",
    "ax_bar.set_title('Top 10 Zip Codes by Percentage Uninsured')\n",
    "ax_bar.set_xlabel('Zip Code')\n",
    "ax_bar.set_ylabel('Percentage')\n",
    "ax_bar\n"
   ]
  },
  {
   "cell_type": "code",
   "execution_count": null,
   "id": "ff2b6958",
   "metadata": {},
   "outputs": [],
   "source": [
    "#Create a new figure and a grid of subplots with adjusted height ratios\n",
    "fig, axes = plt.subplots(2, 1, figsize=(10, 12), gridspec_kw={'height_ratios': [3, 1]})\n",
    "\n",
    "#Set background\n",
    "fig.patch.set_facecolor('lightgrey')\n",
    "\n",
    "#Plot the choropleth\n",
    "ax_choropleth = axes[0]\n",
    "choropleth = adjfinal.plot(column='percent_insured', cmap='Blues', linewidth=0.8, ax=ax_choropleth, edgecolor='0.8')\n",
    "ax_choropleth.set_title('Percent Insured by Population')\n",
    "ax_choropleth.set_axis_off()\n",
    "\n",
    "#Add scale bar\n",
    "bar = plt.cm.ScalarMappable(cmap='Blues', norm=plt.Normalize(vmin=0, vmax=100))\n",
    "bar._A = []\n",
    "cbar = fig.colorbar(bar, ax=ax_choropleth)\n",
    "\n",
    "#Overlay counties\n",
    "adj.plot(ax=ax_choropleth, linewidth=1, edgecolor='black', facecolor='none')\n",
    "\n",
    "#Get the top 10 zip codes by percentage uninsured\n",
    "top_10_zipcodes = adjfinal.nlargest(10, 'percent_insured')\n",
    "\n",
    "#Get choropleth colors\n",
    "colors = [bar.to_rgba(val) for val in top_10_zipcodes['percent_insured']]\n",
    "\n",
    "#Plot the bar chart\n",
    "ax_bar = axes[1]\n",
    "ax_bar.bar(top_10_zipcodes['zip code'], top_10_zipcodes['percent_insured'], color=colors)\n",
    "ax_bar.set_title('Top 10 Zip Codes by Percentage Insured')\n",
    "ax_bar.set_xlabel('Zip Code')\n",
    "ax_bar.set_ylabel('Percentage')\n",
    "ax_bar\n"
   ]
  },
  {
   "cell_type": "code",
   "execution_count": null,
   "id": "1b9cfc2d",
   "metadata": {},
   "outputs": [],
   "source": []
  }
 ],
 "metadata": {
  "kernelspec": {
   "display_name": "Python 3 (ipykernel)",
   "language": "python",
   "name": "python3"
  },
  "language_info": {
   "codemirror_mode": {
    "name": "ipython",
    "version": 3
   },
   "file_extension": ".py",
   "mimetype": "text/x-python",
   "name": "python",
   "nbconvert_exporter": "python",
   "pygments_lexer": "ipython3",
   "version": "3.9.13"
  }
 },
 "nbformat": 4,
 "nbformat_minor": 5
}
