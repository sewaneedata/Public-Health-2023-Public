{
 "cells": [
  {
   "cell_type": "markdown",
   "id": "73aba1ec",
   "metadata": {},
   "source": [
    "# Setup"
   ]
  },
  {
   "cell_type": "markdown",
   "id": "763a9806",
   "metadata": {},
   "source": [
    "### Imports"
   ]
  },
  {
   "cell_type": "code",
   "execution_count": null,
   "id": "5a5efade",
   "metadata": {},
   "outputs": [],
   "source": [
    "import pandas as pd\n",
    "import numpy as np\n",
    "import matplotlib.pyplot as plt\n",
    "import seaborn as sns\n",
    "\n",
    "import plotly.express as px\n",
    "import plotly.graph_objects as go\n",
    "import ipywidgets as widgets\n",
    "from IPython.display import display\n",
    "\n",
    "import plotly.offline as pyo\n",
    "import plotly.io as pio\n",
    "from plotly.offline import init_notebook_mode, iplot\n",
    "\n",
    "import datetime\n",
    "import pgeocode"
   ]
  },
  {
   "cell_type": "code",
   "execution_count": null,
   "id": "57dfec93",
   "metadata": {},
   "outputs": [],
   "source": [
    "import dash\n",
    "from dash import dcc\n",
    "from dash import html\n",
    "import dash_bootstrap_components as dbc\n",
    "from dash.dependencies import Input, Output"
   ]
  },
  {
   "cell_type": "markdown",
   "id": "685d0508",
   "metadata": {},
   "source": [
    "### Reading CSV Files"
   ]
  },
  {
   "cell_type": "code",
   "execution_count": null,
   "id": "485100e6",
   "metadata": {},
   "outputs": [],
   "source": [
    "# Encounter Data:\n",
    "\n",
    "# **uncleaned**\n",
    "# enc = pd.read_csv('encounter_data.csv')\n",
    "\n",
    "# **cleaned**\n",
    "# cond = pd.read_csv('encounter_condensed.csv')\n",
    "# patients = pd.read_csv('patients.csv')"
   ]
  },
  {
   "cell_type": "code",
   "execution_count": null,
   "id": "50f6bd09",
   "metadata": {},
   "outputs": [],
   "source": [
    "# How Did You Hear About Us PfH Data:\n",
    "\n",
    "# **uncleaned**\n",
    "# ha = pd.read_csv('HearPfH.csv')\n",
    "\n",
    "# **cleaned**\n",
    "# how_hear = pd.read_csv('how_hear.csv')"
   ]
  },
  {
   "cell_type": "code",
   "execution_count": null,
   "id": "72a07bbb",
   "metadata": {},
   "outputs": [],
   "source": [
    "# Referrals PfH Data:\n",
    "\n",
    "# **uncleaned**\n",
    "# re = pd.read_csv('referrals.csv')\n",
    "\n",
    "# **cleaned**\n",
    "# referrals = pd.read_csv('referrals_cleaned.csv')"
   ]
  },
  {
   "cell_type": "code",
   "execution_count": null,
   "id": "88fb945b",
   "metadata": {},
   "outputs": [],
   "source": [
    "# County Census Data:\n",
    "\n",
    "# **uncleaned**\n",
    "# c2018 = pd.read_csv('CountyCensus2018.csv')\n",
    "# c2019 = pd.read_csv('CountyCensus2019.csv')\n",
    "# c2020 = pd.read_csv('CountyCensus2020.csv')\n",
    "# c2021 = pd.read_csv('CountyCensus2021.csv')\n",
    "\n",
    "# **cleaned**\n",
    "# gen_census = pd.read_csv('gen_census.csv')\n",
    "# age_census = pd.read_csv('age_census.csv')\n",
    "# emp_census = pd.read_csv('emp_census.csv')\n",
    "# dis_census = pd.read_csv('dis_census.csv')\n",
    "# pov_census = pd.read_csv('pov_census.csv')"
   ]
  },
  {
   "cell_type": "markdown",
   "id": "a8aaba26",
   "metadata": {},
   "source": [
    "# Visualizations"
   ]
  },
  {
   "cell_type": "markdown",
   "id": "478963a1",
   "metadata": {},
   "source": [
    "#### Background Graphs"
   ]
  },
  {
   "cell_type": "code",
   "execution_count": null,
   "id": "63a2d97d",
   "metadata": {},
   "outputs": [],
   "source": [
    "# "
   ]
  },
  {
   "cell_type": "markdown",
   "id": "378aeafb",
   "metadata": {},
   "source": [
    "#### Clinic Usage Graphs"
   ]
  },
  {
   "cell_type": "code",
   "execution_count": null,
   "id": "b81e0a74",
   "metadata": {},
   "outputs": [],
   "source": [
    "# "
   ]
  },
  {
   "cell_type": "markdown",
   "id": "5726af03",
   "metadata": {},
   "source": [
    "#### Demographics Graphs"
   ]
  },
  {
   "cell_type": "code",
   "execution_count": null,
   "id": "f662cd16",
   "metadata": {},
   "outputs": [],
   "source": [
    "#"
   ]
  },
  {
   "cell_type": "markdown",
   "id": "19fc041e",
   "metadata": {},
   "source": [
    "#### Conditions Graphs"
   ]
  },
  {
   "cell_type": "code",
   "execution_count": null,
   "id": "bc9e0f66",
   "metadata": {},
   "outputs": [],
   "source": [
    "# "
   ]
  },
  {
   "cell_type": "markdown",
   "id": "ba63f0e5",
   "metadata": {},
   "source": [
    "#### Eligibility Graphs"
   ]
  },
  {
   "cell_type": "code",
   "execution_count": null,
   "id": "c7c03fe5",
   "metadata": {},
   "outputs": [],
   "source": [
    "# "
   ]
  },
  {
   "cell_type": "markdown",
   "id": "2caaea6f",
   "metadata": {},
   "source": [
    "#### ER Usage Graphs"
   ]
  },
  {
   "cell_type": "code",
   "execution_count": null,
   "id": "b680a4d5",
   "metadata": {},
   "outputs": [],
   "source": [
    "# "
   ]
  },
  {
   "cell_type": "markdown",
   "id": "e061fcca",
   "metadata": {},
   "source": [
    "#### Rural Vs Urban Graphs"
   ]
  },
  {
   "cell_type": "code",
   "execution_count": null,
   "id": "304ba70e",
   "metadata": {},
   "outputs": [],
   "source": [
    "# "
   ]
  },
  {
   "cell_type": "markdown",
   "id": "99f7ad10",
   "metadata": {},
   "source": [
    "# Dashboard"
   ]
  },
  {
   "cell_type": "code",
   "execution_count": null,
   "id": "ea35d026",
   "metadata": {},
   "outputs": [],
   "source": [
    "# Create the Dash application\n",
    "app = dash.Dash(__name__, external_stylesheets=[dbc.themes.BOOTSTRAP])\n",
    "#Styling sidebar\n",
    "SIDEBAR_STYLE= {\n",
    "    \"position\": \"fixed\",\n",
    "    \"top\":0,\n",
    "    \"left\":0,\n",
    "    \"bottom\":0,\n",
    "    \"width\": \"12rem\",\n",
    "    \"padding\":\"2rem 1rem\",\n",
    "    \"background-color\": \"#F8F9FA\",\n",
    "    \"overflow\": \"scroll\",\n",
    "}\n",
    "# location of tab information\n",
    "CONTENT_STYLE = {\n",
    "    \"margin-left\": \"16rem\",\n",
    "    \"margin-right\": \"2rem\",\n",
    "    \"padding\": \"2rem 1rem\",}\n",
    "# Create the Sidebar\n",
    "sidebar = html.Div(\n",
    "    [\n",
    "        html.H2(\"PfH\", className=\"display-1\"),\n",
    "        html.Hr(),\n",
    "        html.P ('Home Page'),\n",
    "        dbc.Nav([\n",
    "                dbc.NavLink(\"Background\", href=\"/\", active = \"exact\"),\n",
    "        ],\n",
    "            vertical = True,\n",
    "            pills = True\n",
    "        ),\n",
    "        html.Hr(),\n",
    "        html.P(\n",
    "            'Partners for Healing', className='lead'\n",
    "        ),\n",
    "        dbc.Nav(\n",
    "            [\n",
    "                dbc.NavLink(\"Clinic Usage\", href=\"/clinic_usage\", active = \"exact\"),\n",
    "                dbc.NavLink(\"Demographics\", href=\"/demographics\", active=\"exact\"),\n",
    "                dbc.NavLink(\"Conditions\", href=\"/conditions\", active=\"exact\"),\n",
    "            ],\n",
    "            vertical = True,\n",
    "            pills = True,\n",
    "        ),\n",
    "        html.Hr(),\n",
    "        html.P('County', className='lead'),\n",
    "        dbc.Nav(\n",
    "            [\n",
    "                dbc.NavLink(\"Eligibility\", href=\"/county\", active = \"exact\"),\n",
    "            ],\n",
    "            vertical = True,\n",
    "            pills = True,\n",
    "        ),\n",
    "        html.Hr(),\n",
    "        html.P('Hospital Insights', className='lead'),\n",
    "        dbc.Nav(\n",
    "            [\n",
    "                dbc.NavLink(\"ER Usage\", href=\"/ER\", active = \"exact\"),\n",
    "                dbc.NavLink(\"Rural vs Urban\", href=\"/rural_urban\", active=\"exact\"),\n",
    "                dbc.NavLink(\"Test 8\", href=\"/test-8\", active=\"exact\"),\n",
    "            ],\n",
    "            vertical = True,\n",
    "            pills = True,\n",
    "        ),\n",
    "    ],\n",
    "    style= SIDEBAR_STYLE,\n",
    ")\n",
    "content = html.Div(id=\"page-content\", children =[], style=CONTENT_STYLE)\n",
    "# Define the layout\n",
    "app.layout = html.Div([\n",
    "    dcc.Location(id=\"url\"),\n",
    "    sidebar,\n",
    "    content ])\n",
    "@app.callback(\n",
    "    Output(\"page-content\", \"children\"),\n",
    "    [Input(\"url\",\"pathname\")]\n",
    "    )\n",
    "def render_page_content(pathname):\n",
    "    if pathname == \"/\":\n",
    "        return [\n",
    "            html.H1('Bridging The Health Care Coverage Gap',\n",
    "                   style={'textAlign':'center'}),\n",
    "            html.P(\"Problem Statement\")\n",
    "                ]\n",
    "    elif pathname == \"/clinic_usage\":\n",
    "        return [\n",
    "            html.H1(\"PfH Clinic Usage Throughout Years\",\n",
    "                   style={'textAlign':'center'}),\n",
    "            ## use dcc.Graph(id='bargraph', then put the code in )\n",
    "            dcc.Graph(id='bargraph',\n",
    "                      figure = px.bar(filtered_counties, x='county', y='percent uninsured',\n",
    "                                hover_data=['population'], title='Uninsured Status')\n",
    "                     )]\n",
    "    elif pathname == \"/demographics\":\n",
    "        return [\n",
    "            html.H1(\"PfH Clinic Demographics\",\n",
    "                   style={'textAlign':'center'})\n",
    "            #dcc.Graph(id='bargraph',\n",
    "                      #figure = px.bar(filtered_counties, x='county', y='percent uninsured',\n",
    "                                #hover_data=['population'], title='Uninsured Status')\n",
    "                     #)\n",
    "                        ]\n",
    "    elif pathname == \"/conditions\":\n",
    "        return [\n",
    "            html.H1(\"Patient Conditions\",\n",
    "                   style={'textAlign':'center'}),\n",
    "            dcc.Graph(id='bargraph',\n",
    "                      figure = px.bar(filtered_counties, x='county', y='percent uninsured',\n",
    "                             hover_data=['population'], title='Uninsured Status')\n",
    "                     )\n",
    "                        ]\n",
    "    elif pathname == \"/county\":\n",
    "        return [\n",
    "            html.H1(\"Population of Eligible Patients in Local Counties\",\n",
    "                   style={'textAlign':'center'})\n",
    "            #dcc.Graph(id='bargraph',\n",
    "                     #add graph code\n",
    "                        ]\n",
    "    elif pathname == \"/ER\":\n",
    "        return [\n",
    "            html.H1(\"Preventable ER Visits\",\n",
    "                   style={'textAlign':'center'})\n",
    "            #dcc.Graph(id='bargraph',\n",
    "                     #add graph code\n",
    "                        ]\n",
    "    elif pathname == \"/rural_urban\":\n",
    "        return [\n",
    "            html.H1(\"Rural vs Urban Healthcare\",\n",
    "                   style={'textAlign':'center'})\n",
    "           #dcc.Graph(id='bargraph',\n",
    "                     #add graph code\n",
    "                        ]\n",
    "# Define callbacks to update the content based on the selected sub-tabs\n",
    "# Run the application\n",
    "if __name__=='__main__':\n",
    "    app.run_server(debug=True, port=8000)\n",
    "#http://127.0.0.1:8000/county"
   ]
  }
 ],
 "metadata": {
  "kernelspec": {
   "display_name": "Python 3 (ipykernel)",
   "language": "python",
   "name": "python3"
  },
  "language_info": {
   "codemirror_mode": {
    "name": "ipython",
    "version": 3
   },
   "file_extension": ".py",
   "mimetype": "text/x-python",
   "name": "python",
   "nbconvert_exporter": "python",
   "pygments_lexer": "ipython3",
   "version": "3.9.13"
  }
 },
 "nbformat": 4,
 "nbformat_minor": 5
}
